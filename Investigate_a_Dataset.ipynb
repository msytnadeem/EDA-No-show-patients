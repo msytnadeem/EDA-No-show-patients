{
 "cells": [
  {
   "cell_type": "markdown",
   "metadata": {},
   "source": [
    "# Project: Investigate a Dataset (No-Show Appointments)\n",
    "\n",
    "## Table of Contents\n",
    "<ul>\n",
    "<li><a href=\"#intro\">Introduction</a></li>\n",
    "<li><a href=\"#wrangling\">Data Wrangling</a></li>\n",
    "<li><a href=\"#eda\">Exploratory Data Analysis</a></li>\n",
    "<li><a href=\"#conclusions\">Conclusions</a></li>\n",
    "</ul>"
   ]
  },
  {
   "cell_type": "markdown",
   "metadata": {},
   "source": [
    "<a id='intro'></a>\n",
    "## Introduction\n",
    "\n",
    "Over 110 thousand of medical appointments took place in brazil, some patients did not show up for their appointments. the dataset contains 14 features including the present of the patient or not on his appointment date. The features can be classified into 4 groups, patient information (id, gender, age), appointment information (appointment id, appointment date, scheduled date, no show, sms received), health information (hypertension, diabetes, alcoholism, handicap) and social information (Neighborhood, Scholarship). by investigating the dataset, I am trying to answer the following questions:\n",
    "<b>\n",
    "<ul>\n",
    "    <li>Which genders and age groups, patients are most likely not to show up to their appointments?</li>\n",
    "    <li>Is early scheduling could be a reason for not showing to appointments? How SMS reminder may help?</li>\n",
    "    <li>At which part of the day patients are most likely to skip their scheduled appointments? Morning, Afternoon, Evening or Night?</li>\n",
    "    <li>At which day of the week patients are most likely to skip their scheduled appointments?How is that changing over the years and months?</li>\n",
    "    <li>Is there any correlation between patients positive records in hypertension, diabetes, alcoholism or / and handicap and them not showing up to their appointments?</li>\n",
    "    <li>Which neighborhood has the most no-show rate? are neighborhoods with more scholarship patients are most likely not to show?</li>\n",
    "</ul>\n",
    "    </b>"
   ]
  },
  {
   "cell_type": "code",
   "execution_count": 1,
   "metadata": {},
   "outputs": [],
   "source": [
    "# importing packages and libraries and matplotlib for visualization\n",
    "import pandas as pd\n",
    "import numpy as np\n",
    "import matplotlib.pyplot as plt\n",
    "import seaborn as sns\n",
    "sns.set(style=\"whitegrid\")\n",
    "\n",
    "%matplotlib inline"
   ]
  },
  {
   "cell_type": "markdown",
   "metadata": {},
   "source": [
    "<a id='wrangling'></a>\n",
    "## Data Wrangling\n",
    "\n",
    "### General Properties"
   ]
  },
  {
   "cell_type": "code",
   "execution_count": 2,
   "metadata": {},
   "outputs": [
    {
     "name": "stdout",
     "output_type": "stream",
     "text": [
      "The data frame has 110527 rows and 14 columns\n"
     ]
    }
   ],
   "source": [
    "#importing CSV into data frame.\n",
    "df = pd.read_csv(\"no_show_appointment.csv\")\n",
    "rows, columns = df.shape\n",
    "print(\"The data frame has \"+ str(rows) +\" rows and \" + str(columns) + \" columns\")"
   ]
  },
  {
   "cell_type": "code",
   "execution_count": 3,
   "metadata": {},
   "outputs": [
    {
     "data": {
      "text/html": [
       "<div>\n",
       "<style scoped>\n",
       "    .dataframe tbody tr th:only-of-type {\n",
       "        vertical-align: middle;\n",
       "    }\n",
       "\n",
       "    .dataframe tbody tr th {\n",
       "        vertical-align: top;\n",
       "    }\n",
       "\n",
       "    .dataframe thead th {\n",
       "        text-align: right;\n",
       "    }\n",
       "</style>\n",
       "<table border=\"1\" class=\"dataframe\">\n",
       "  <thead>\n",
       "    <tr style=\"text-align: right;\">\n",
       "      <th></th>\n",
       "      <th>PatientId</th>\n",
       "      <th>AppointmentID</th>\n",
       "      <th>Gender</th>\n",
       "      <th>ScheduledDay</th>\n",
       "      <th>AppointmentDay</th>\n",
       "      <th>Age</th>\n",
       "      <th>Neighbourhood</th>\n",
       "      <th>Scholarship</th>\n",
       "      <th>Hipertension</th>\n",
       "      <th>Diabetes</th>\n",
       "      <th>Alcoholism</th>\n",
       "      <th>Handcap</th>\n",
       "      <th>SMS_received</th>\n",
       "      <th>No-show</th>\n",
       "    </tr>\n",
       "  </thead>\n",
       "  <tbody>\n",
       "    <tr>\n",
       "      <th>0</th>\n",
       "      <td>2.987250e+13</td>\n",
       "      <td>5642903</td>\n",
       "      <td>F</td>\n",
       "      <td>2016-04-29T18:38:08Z</td>\n",
       "      <td>2016-04-29T00:00:00Z</td>\n",
       "      <td>62</td>\n",
       "      <td>JARDIM DA PENHA</td>\n",
       "      <td>0</td>\n",
       "      <td>1</td>\n",
       "      <td>0</td>\n",
       "      <td>0</td>\n",
       "      <td>0</td>\n",
       "      <td>0</td>\n",
       "      <td>No</td>\n",
       "    </tr>\n",
       "    <tr>\n",
       "      <th>1</th>\n",
       "      <td>5.589978e+14</td>\n",
       "      <td>5642503</td>\n",
       "      <td>M</td>\n",
       "      <td>2016-04-29T16:08:27Z</td>\n",
       "      <td>2016-04-29T00:00:00Z</td>\n",
       "      <td>56</td>\n",
       "      <td>JARDIM DA PENHA</td>\n",
       "      <td>0</td>\n",
       "      <td>0</td>\n",
       "      <td>0</td>\n",
       "      <td>0</td>\n",
       "      <td>0</td>\n",
       "      <td>0</td>\n",
       "      <td>No</td>\n",
       "    </tr>\n",
       "    <tr>\n",
       "      <th>2</th>\n",
       "      <td>4.262962e+12</td>\n",
       "      <td>5642549</td>\n",
       "      <td>F</td>\n",
       "      <td>2016-04-29T16:19:04Z</td>\n",
       "      <td>2016-04-29T00:00:00Z</td>\n",
       "      <td>62</td>\n",
       "      <td>MATA DA PRAIA</td>\n",
       "      <td>0</td>\n",
       "      <td>0</td>\n",
       "      <td>0</td>\n",
       "      <td>0</td>\n",
       "      <td>0</td>\n",
       "      <td>0</td>\n",
       "      <td>No</td>\n",
       "    </tr>\n",
       "    <tr>\n",
       "      <th>3</th>\n",
       "      <td>8.679512e+11</td>\n",
       "      <td>5642828</td>\n",
       "      <td>F</td>\n",
       "      <td>2016-04-29T17:29:31Z</td>\n",
       "      <td>2016-04-29T00:00:00Z</td>\n",
       "      <td>8</td>\n",
       "      <td>PONTAL DE CAMBURI</td>\n",
       "      <td>0</td>\n",
       "      <td>0</td>\n",
       "      <td>0</td>\n",
       "      <td>0</td>\n",
       "      <td>0</td>\n",
       "      <td>0</td>\n",
       "      <td>No</td>\n",
       "    </tr>\n",
       "    <tr>\n",
       "      <th>4</th>\n",
       "      <td>8.841186e+12</td>\n",
       "      <td>5642494</td>\n",
       "      <td>F</td>\n",
       "      <td>2016-04-29T16:07:23Z</td>\n",
       "      <td>2016-04-29T00:00:00Z</td>\n",
       "      <td>56</td>\n",
       "      <td>JARDIM DA PENHA</td>\n",
       "      <td>0</td>\n",
       "      <td>1</td>\n",
       "      <td>1</td>\n",
       "      <td>0</td>\n",
       "      <td>0</td>\n",
       "      <td>0</td>\n",
       "      <td>No</td>\n",
       "    </tr>\n",
       "  </tbody>\n",
       "</table>\n",
       "</div>"
      ],
      "text/plain": [
       "      PatientId  AppointmentID Gender          ScheduledDay  \\\n",
       "0  2.987250e+13        5642903      F  2016-04-29T18:38:08Z   \n",
       "1  5.589978e+14        5642503      M  2016-04-29T16:08:27Z   \n",
       "2  4.262962e+12        5642549      F  2016-04-29T16:19:04Z   \n",
       "3  8.679512e+11        5642828      F  2016-04-29T17:29:31Z   \n",
       "4  8.841186e+12        5642494      F  2016-04-29T16:07:23Z   \n",
       "\n",
       "         AppointmentDay  Age      Neighbourhood  Scholarship  Hipertension  \\\n",
       "0  2016-04-29T00:00:00Z   62    JARDIM DA PENHA            0             1   \n",
       "1  2016-04-29T00:00:00Z   56    JARDIM DA PENHA            0             0   \n",
       "2  2016-04-29T00:00:00Z   62      MATA DA PRAIA            0             0   \n",
       "3  2016-04-29T00:00:00Z    8  PONTAL DE CAMBURI            0             0   \n",
       "4  2016-04-29T00:00:00Z   56    JARDIM DA PENHA            0             1   \n",
       "\n",
       "   Diabetes  Alcoholism  Handcap  SMS_received No-show  \n",
       "0         0           0        0             0      No  \n",
       "1         0           0        0             0      No  \n",
       "2         0           0        0             0      No  \n",
       "3         0           0        0             0      No  \n",
       "4         1           0        0             0      No  "
      ]
     },
     "execution_count": 3,
     "metadata": {},
     "output_type": "execute_result"
    }
   ],
   "source": [
    "#browse sample of data values and formats of each feature. \n",
    "df.head()"
   ]
  },
  {
   "cell_type": "code",
   "execution_count": 4,
   "metadata": {},
   "outputs": [
    {
     "name": "stdout",
     "output_type": "stream",
     "text": [
      "<class 'pandas.core.frame.DataFrame'>\n",
      "RangeIndex: 110527 entries, 0 to 110526\n",
      "Data columns (total 14 columns):\n",
      "PatientId         110527 non-null float64\n",
      "AppointmentID     110527 non-null int64\n",
      "Gender            110527 non-null object\n",
      "ScheduledDay      110527 non-null object\n",
      "AppointmentDay    110527 non-null object\n",
      "Age               110527 non-null int64\n",
      "Neighbourhood     110527 non-null object\n",
      "Scholarship       110527 non-null int64\n",
      "Hipertension      110527 non-null int64\n",
      "Diabetes          110527 non-null int64\n",
      "Alcoholism        110527 non-null int64\n",
      "Handcap           110527 non-null int64\n",
      "SMS_received      110527 non-null int64\n",
      "No-show           110527 non-null object\n",
      "dtypes: float64(1), int64(8), object(5)\n",
      "memory usage: 11.8+ MB\n"
     ]
    }
   ],
   "source": [
    "#browse data frame columns data types\n",
    "df.info()"
   ]
  },
  {
   "cell_type": "code",
   "execution_count": 5,
   "metadata": {},
   "outputs": [
    {
     "data": {
      "text/html": [
       "<div>\n",
       "<style scoped>\n",
       "    .dataframe tbody tr th:only-of-type {\n",
       "        vertical-align: middle;\n",
       "    }\n",
       "\n",
       "    .dataframe tbody tr th {\n",
       "        vertical-align: top;\n",
       "    }\n",
       "\n",
       "    .dataframe thead th {\n",
       "        text-align: right;\n",
       "    }\n",
       "</style>\n",
       "<table border=\"1\" class=\"dataframe\">\n",
       "  <thead>\n",
       "    <tr style=\"text-align: right;\">\n",
       "      <th></th>\n",
       "      <th>PatientId</th>\n",
       "      <th>AppointmentID</th>\n",
       "      <th>Age</th>\n",
       "      <th>Scholarship</th>\n",
       "      <th>Hipertension</th>\n",
       "      <th>Diabetes</th>\n",
       "      <th>Alcoholism</th>\n",
       "      <th>Handcap</th>\n",
       "      <th>SMS_received</th>\n",
       "    </tr>\n",
       "  </thead>\n",
       "  <tbody>\n",
       "    <tr>\n",
       "      <th>count</th>\n",
       "      <td>1.105270e+05</td>\n",
       "      <td>1.105270e+05</td>\n",
       "      <td>110527.000000</td>\n",
       "      <td>110527.000000</td>\n",
       "      <td>110527.000000</td>\n",
       "      <td>110527.000000</td>\n",
       "      <td>110527.000000</td>\n",
       "      <td>110527.000000</td>\n",
       "      <td>110527.000000</td>\n",
       "    </tr>\n",
       "    <tr>\n",
       "      <th>mean</th>\n",
       "      <td>1.474963e+14</td>\n",
       "      <td>5.675305e+06</td>\n",
       "      <td>37.088874</td>\n",
       "      <td>0.098266</td>\n",
       "      <td>0.197246</td>\n",
       "      <td>0.071865</td>\n",
       "      <td>0.030400</td>\n",
       "      <td>0.022248</td>\n",
       "      <td>0.321026</td>\n",
       "    </tr>\n",
       "    <tr>\n",
       "      <th>std</th>\n",
       "      <td>2.560949e+14</td>\n",
       "      <td>7.129575e+04</td>\n",
       "      <td>23.110205</td>\n",
       "      <td>0.297675</td>\n",
       "      <td>0.397921</td>\n",
       "      <td>0.258265</td>\n",
       "      <td>0.171686</td>\n",
       "      <td>0.161543</td>\n",
       "      <td>0.466873</td>\n",
       "    </tr>\n",
       "    <tr>\n",
       "      <th>min</th>\n",
       "      <td>3.921784e+04</td>\n",
       "      <td>5.030230e+06</td>\n",
       "      <td>-1.000000</td>\n",
       "      <td>0.000000</td>\n",
       "      <td>0.000000</td>\n",
       "      <td>0.000000</td>\n",
       "      <td>0.000000</td>\n",
       "      <td>0.000000</td>\n",
       "      <td>0.000000</td>\n",
       "    </tr>\n",
       "    <tr>\n",
       "      <th>25%</th>\n",
       "      <td>4.172614e+12</td>\n",
       "      <td>5.640286e+06</td>\n",
       "      <td>18.000000</td>\n",
       "      <td>0.000000</td>\n",
       "      <td>0.000000</td>\n",
       "      <td>0.000000</td>\n",
       "      <td>0.000000</td>\n",
       "      <td>0.000000</td>\n",
       "      <td>0.000000</td>\n",
       "    </tr>\n",
       "    <tr>\n",
       "      <th>50%</th>\n",
       "      <td>3.173184e+13</td>\n",
       "      <td>5.680573e+06</td>\n",
       "      <td>37.000000</td>\n",
       "      <td>0.000000</td>\n",
       "      <td>0.000000</td>\n",
       "      <td>0.000000</td>\n",
       "      <td>0.000000</td>\n",
       "      <td>0.000000</td>\n",
       "      <td>0.000000</td>\n",
       "    </tr>\n",
       "    <tr>\n",
       "      <th>75%</th>\n",
       "      <td>9.439172e+13</td>\n",
       "      <td>5.725524e+06</td>\n",
       "      <td>55.000000</td>\n",
       "      <td>0.000000</td>\n",
       "      <td>0.000000</td>\n",
       "      <td>0.000000</td>\n",
       "      <td>0.000000</td>\n",
       "      <td>0.000000</td>\n",
       "      <td>1.000000</td>\n",
       "    </tr>\n",
       "    <tr>\n",
       "      <th>max</th>\n",
       "      <td>9.999816e+14</td>\n",
       "      <td>5.790484e+06</td>\n",
       "      <td>115.000000</td>\n",
       "      <td>1.000000</td>\n",
       "      <td>1.000000</td>\n",
       "      <td>1.000000</td>\n",
       "      <td>1.000000</td>\n",
       "      <td>4.000000</td>\n",
       "      <td>1.000000</td>\n",
       "    </tr>\n",
       "  </tbody>\n",
       "</table>\n",
       "</div>"
      ],
      "text/plain": [
       "          PatientId  AppointmentID            Age    Scholarship  \\\n",
       "count  1.105270e+05   1.105270e+05  110527.000000  110527.000000   \n",
       "mean   1.474963e+14   5.675305e+06      37.088874       0.098266   \n",
       "std    2.560949e+14   7.129575e+04      23.110205       0.297675   \n",
       "min    3.921784e+04   5.030230e+06      -1.000000       0.000000   \n",
       "25%    4.172614e+12   5.640286e+06      18.000000       0.000000   \n",
       "50%    3.173184e+13   5.680573e+06      37.000000       0.000000   \n",
       "75%    9.439172e+13   5.725524e+06      55.000000       0.000000   \n",
       "max    9.999816e+14   5.790484e+06     115.000000       1.000000   \n",
       "\n",
       "        Hipertension       Diabetes     Alcoholism        Handcap  \\\n",
       "count  110527.000000  110527.000000  110527.000000  110527.000000   \n",
       "mean        0.197246       0.071865       0.030400       0.022248   \n",
       "std         0.397921       0.258265       0.171686       0.161543   \n",
       "min         0.000000       0.000000       0.000000       0.000000   \n",
       "25%         0.000000       0.000000       0.000000       0.000000   \n",
       "50%         0.000000       0.000000       0.000000       0.000000   \n",
       "75%         0.000000       0.000000       0.000000       0.000000   \n",
       "max         1.000000       1.000000       1.000000       4.000000   \n",
       "\n",
       "        SMS_received  \n",
       "count  110527.000000  \n",
       "mean        0.321026  \n",
       "std         0.466873  \n",
       "min         0.000000  \n",
       "25%         0.000000  \n",
       "50%         0.000000  \n",
       "75%         1.000000  \n",
       "max         1.000000  "
      ]
     },
     "execution_count": 5,
     "metadata": {},
     "output_type": "execute_result"
    }
   ],
   "source": [
    "#print out statistical details of the numeric data.\n",
    "df.describe()"
   ]
  },
  {
   "cell_type": "code",
   "execution_count": 6,
   "metadata": {},
   "outputs": [
    {
     "data": {
      "text/plain": [
       "<matplotlib.legend.Legend at 0x24ff1a49080>"
      ]
     },
     "execution_count": 6,
     "metadata": {},
     "output_type": "execute_result"
    },
    {
     "data": {
      "image/png": "[encoded data removed]",
      "text/plain": [
       "<Figure size 720x360 with 1 Axes>"
      ]
     },
     "metadata": {
      "needs_background": "light"
     },
     "output_type": "display_data"
    }
   ],
   "source": [
    "#check number of not showing up patinets to an appointment on scale of 100\n",
    "#group by no-show column\n",
    "no_show_percentage = pd.DataFrame(df.groupby([\"No-show\"])[\"PatientId\"].count())\n",
    "#calculate percentage of show up and no show and store it in column No-Show\n",
    "no_show_percentage[\"No-show\"] = no_show_percentage[\"PatientId\"] / sum(no_show_percentage[\"PatientId\"]) * 100\n",
    "no_show_percentage.drop(columns=\"PatientId\", inplace=True)\n",
    "#plot the dataframe \n",
    "no_show_percentage.plot.bar(figsize=(10,5))\n",
    "plt.ylim(top=100)\n",
    "plt.title(\"Medical Appointments\",{'fontsize': 20},pad=20)\n",
    "plt.xlabel(\"Appointment Status\")\n",
    "plt.xticks(np.arange(2), ('Show-Up', 'No-Show'), rotation=0)\n",
    "plt.legend([\"Appointment Status Rate\"])\n"
   ]
  },
  {
   "cell_type": "code",
   "execution_count": 7,
   "metadata": {},
   "outputs": [
    {
     "data": {
      "text/plain": [
       "count    110527.000000\n",
       "mean         37.088874\n",
       "std          23.110205\n",
       "min          -1.000000\n",
       "25%          18.000000\n",
       "50%          37.000000\n",
       "75%          55.000000\n",
       "max         115.000000\n",
       "Name: Age, dtype: float64"
      ]
     },
     "execution_count": 7,
     "metadata": {},
     "output_type": "execute_result"
    }
   ],
   "source": [
    "#checking the age distripution\n",
    "df[\"Age\"].describe()"
   ]
  },
  {
   "cell_type": "code",
   "execution_count": 8,
   "metadata": {},
   "outputs": [
    {
     "name": "stdout",
     "output_type": "stream",
     "text": [
      "Number of duplicate recrods: 0\n"
     ]
    }
   ],
   "source": [
    "#Check number of duplicated records in the data frame. \n",
    "print(\"Number of duplicate recrods: \" + str(sum(df.duplicated())))"
   ]
  },
  {
   "cell_type": "code",
   "execution_count": 9,
   "metadata": {},
   "outputs": [
    {
     "data": {
      "text/plain": [
       "array(['F', 'M'], dtype=object)"
      ]
     },
     "execution_count": 9,
     "metadata": {},
     "output_type": "execute_result"
    }
   ],
   "source": [
    "#assure gender has only two unique values\n",
    "df[\"Gender\"].unique()"
   ]
  },
  {
   "cell_type": "code",
   "execution_count": 10,
   "metadata": {},
   "outputs": [
    {
     "data": {
      "text/plain": [
       "array(['JARDIM DA PENHA', 'MATA DA PRAIA', 'PONTAL DE CAMBURI',\n",
       "       'REPÚBLICA', 'GOIABEIRAS', 'ANDORINHAS', 'CONQUISTA',\n",
       "       'NOVA PALESTINA', 'DA PENHA', 'TABUAZEIRO', 'BENTO FERREIRA',\n",
       "       'SÃO PEDRO', 'SANTA MARTHA', 'SÃO CRISTÓVÃO', 'MARUÍPE',\n",
       "       'GRANDE VITÓRIA', 'SÃO BENEDITO', 'ILHA DAS CAIEIRAS',\n",
       "       'SANTO ANDRÉ', 'SOLON BORGES', 'BONFIM', 'JARDIM CAMBURI',\n",
       "       'MARIA ORTIZ', 'JABOUR', 'ANTÔNIO HONÓRIO', 'RESISTÊNCIA',\n",
       "       'ILHA DE SANTA MARIA', 'JUCUTUQUARA', 'MONTE BELO',\n",
       "       'MÁRIO CYPRESTE', 'SANTO ANTÔNIO', 'BELA VISTA', 'PRAIA DO SUÁ',\n",
       "       'SANTA HELENA', 'ITARARÉ', 'INHANGUETÁ', 'UNIVERSITÁRIO',\n",
       "       'SÃO JOSÉ', 'REDENÇÃO', 'SANTA CLARA', 'CENTRO', 'PARQUE MOSCOSO',\n",
       "       'DO MOSCOSO', 'SANTOS DUMONT', 'CARATOÍRA', 'ARIOVALDO FAVALESSA',\n",
       "       'ILHA DO FRADE', 'GURIGICA', 'JOANA D´ARC', 'CONSOLAÇÃO',\n",
       "       'PRAIA DO CANTO', 'BOA VISTA', 'MORADA DE CAMBURI', 'SANTA LUÍZA',\n",
       "       'SANTA LÚCIA', 'BARRO VERMELHO', 'ESTRELINHA', 'FORTE SÃO JOÃO',\n",
       "       'FONTE GRANDE', 'ENSEADA DO SUÁ', 'SANTOS REIS', 'PIEDADE',\n",
       "       'JESUS DE NAZARETH', 'SANTA TEREZA', 'CRUZAMENTO',\n",
       "       'ILHA DO PRÍNCIPE', 'ROMÃO', 'COMDUSA', 'SANTA CECÍLIA',\n",
       "       'VILA RUBIM', 'DE LOURDES', 'DO QUADRO', 'DO CABRAL', 'HORTO',\n",
       "       'SEGURANÇA DO LAR', 'ILHA DO BOI', 'FRADINHOS', 'NAZARETH',\n",
       "       'AEROPORTO', 'ILHAS OCEÂNICAS DE TRINDADE', 'PARQUE INDUSTRIAL'],\n",
       "      dtype=object)"
      ]
     },
     "execution_count": 10,
     "metadata": {},
     "output_type": "execute_result"
    }
   ],
   "source": [
    "#check neighbourhood unique list\n",
    "df[\"Neighbourhood\"].unique()"
   ]
  },
  {
   "cell_type": "code",
   "execution_count": 11,
   "metadata": {},
   "outputs": [
    {
     "name": "stdout",
     "output_type": "stream",
     "text": [
      "Number of wrong handicap values: 199\n"
     ]
    }
   ],
   "source": [
    "#check number of wrong values of handcap that exceeds a value of 1\n",
    "print(\"Number of wrong handicap values: \" + str(df.query(\"Handcap > 1\")[\"Handcap\"].count()))"
   ]
  },
  {
   "cell_type": "code",
   "execution_count": 12,
   "metadata": {},
   "outputs": [
    {
     "data": {
      "text/html": [
       "<div>\n",
       "<style scoped>\n",
       "    .dataframe tbody tr th:only-of-type {\n",
       "        vertical-align: middle;\n",
       "    }\n",
       "\n",
       "    .dataframe tbody tr th {\n",
       "        vertical-align: top;\n",
       "    }\n",
       "\n",
       "    .dataframe thead th {\n",
       "        text-align: right;\n",
       "    }\n",
       "</style>\n",
       "<table border=\"1\" class=\"dataframe\">\n",
       "  <thead>\n",
       "    <tr style=\"text-align: right;\">\n",
       "      <th></th>\n",
       "      <th>ScheduledDay</th>\n",
       "      <th>AppointmentDay</th>\n",
       "    </tr>\n",
       "  </thead>\n",
       "  <tbody>\n",
       "    <tr>\n",
       "      <th>count</th>\n",
       "      <td>110527</td>\n",
       "      <td>110527</td>\n",
       "    </tr>\n",
       "    <tr>\n",
       "      <th>unique</th>\n",
       "      <td>103549</td>\n",
       "      <td>27</td>\n",
       "    </tr>\n",
       "    <tr>\n",
       "      <th>top</th>\n",
       "      <td>2016-05-06T07:09:54Z</td>\n",
       "      <td>2016-06-06T00:00:00Z</td>\n",
       "    </tr>\n",
       "    <tr>\n",
       "      <th>freq</th>\n",
       "      <td>24</td>\n",
       "      <td>4692</td>\n",
       "    </tr>\n",
       "  </tbody>\n",
       "</table>\n",
       "</div>"
      ],
      "text/plain": [
       "                ScheduledDay        AppointmentDay\n",
       "count                 110527                110527\n",
       "unique                103549                    27\n",
       "top     2016-05-06T07:09:54Z  2016-06-06T00:00:00Z\n",
       "freq                      24                  4692"
      ]
     },
     "execution_count": 12,
     "metadata": {},
     "output_type": "execute_result"
    }
   ],
   "source": [
    "#check scheduled Day and Appointment Day description\n",
    "df[[\"ScheduledDay\",\"AppointmentDay\"]].describe()"
   ]
  },
  {
   "cell_type": "markdown",
   "metadata": {},
   "source": [
    "#### From above, we learn the following:\n",
    "<ul>\n",
    "    <li>No-Show appointment rate represented 20% of the data included in the study, and the considered to be reasonable reflection of reality. </li>\n",
    "    <li>Data does not have any null values or duplicates. </li>\n",
    "    <li>Age includes some wrong data. some records have '-1' value. </li>\n",
    "    <li>Handicap has 199 records which has invalid values of (2,3,4), and that does not match column type as Boolean. </li>\n",
    "</ul>\n",
    "\n",
    "#### Data requires the below cleaning, transformation and conversions, to help us answering our goal questions:\n",
    "<ol>\n",
    "    <li>Fix column names spelling mistakes and apply lowercase letter and underscore word separation.</li>\n",
    "    <li>Convert scheduled day and appointment day data types from string to datetime.</li>\n",
    "    <li>Extract appointment time and classify it into 4-day parts (Morning, Afternoon, Evening, Night).</li>\n",
    "    <li>Calculating how early, by days, the appointment was scheduled.</li>\n",
    "    <li>Extract appointment year, month and weekday for appointment day.</li>\n",
    "    <li>Clean and classify age into age groups.</li>\n",
    "    <li>Correction of handicap invalid values.</li>\n",
    "    <li>Apply column data types corrections.</li>\n",
    "    <li>Drop unwanted colmuns for data set.</li>\n",
    "    <li>Order columns and store data set into new CSV.</li>\n",
    "</ol>\n"
   ]
  },
  {
   "cell_type": "markdown",
   "metadata": {},
   "source": [
    "### Data Cleaning, Transformation and conversions.\n",
    "\n",
    "<b> Step 1:</b> Fix column names spelling mistakes and apply lowercase letter and underscore word separation"
   ]
  },
  {
   "cell_type": "code",
   "execution_count": 13,
   "metadata": {},
   "outputs": [
    {
     "data": {
      "text/plain": [
       "patient_id         float64\n",
       "appointment_id       int64\n",
       "gender              object\n",
       "scheduled_day       object\n",
       "appointment_day     object\n",
       "age                  int64\n",
       "neighbourhood       object\n",
       "scholarship          int64\n",
       "hypertension         int64\n",
       "diabetes             int64\n",
       "alcoholism           int64\n",
       "handicap             int64\n",
       "sms_received         int64\n",
       "no_show             object\n",
       "dtype: object"
      ]
     },
     "execution_count": 13,
     "metadata": {},
     "output_type": "execute_result"
    }
   ],
   "source": [
    "#new column names for columns requires word seperation with underscore or spelling mistakes\n",
    "columnNames = {\n",
    "            \"PatientId\":\"patient_id\", \n",
    "            \"AppointmentID\":\"appointment_id\",\n",
    "            \"ScheduledDay\":\"scheduled_day\",\n",
    "            \"AppointmentDay\":\"appointment_day\",\n",
    "            \"Hipertension\":\"hypertension\",\n",
    "            \"Handcap\":\"handicap\",\n",
    "            \"No-show\":\"no_show\"\n",
    "            }\n",
    "df = pd.read_csv(\"no_show_appointment.csv\")\n",
    "#rename columns\n",
    "df.rename(columns=columnNames, inplace=True)\n",
    "#lower case all columns names\n",
    "df.columns = df.columns.str.lower()\n",
    "df.dtypes"
   ]
  },
  {
   "cell_type": "markdown",
   "metadata": {},
   "source": [
    "<b>Step 2:</b> Convert scheduled day and appointment day data types from string to datetime"
   ]
  },
  {
   "cell_type": "code",
   "execution_count": 14,
   "metadata": {},
   "outputs": [
    {
     "name": "stdout",
     "output_type": "stream",
     "text": [
      "<class 'pandas.core.frame.DataFrame'>\n",
      "RangeIndex: 110527 entries, 0 to 110526\n",
      "Data columns (total 2 columns):\n",
      "scheduled_day      110527 non-null datetime64[ns, UTC]\n",
      "appointment_day    110527 non-null datetime64[ns, UTC]\n",
      "dtypes: datetime64[ns, UTC](2)\n",
      "memory usage: 1.7 MB\n"
     ]
    }
   ],
   "source": [
    "#converting columns scheduled_day and appointment_day to datetime64\n",
    "df['scheduled_day'] = pd.to_datetime(df['scheduled_day'], format=\"%Y-%m-%d %H:%M:%S\")\n",
    "df['appointment_day'] = pd.to_datetime(df['appointment_day'], format=\"%Y-%m-%d %H:%M:%S\")\n",
    "#confirm new data types, as well check no null values was generated because of the transition.\n",
    "df[[\"scheduled_day\",\"appointment_day\"]].info()"
   ]
  },
  {
   "cell_type": "code",
   "execution_count": 15,
   "metadata": {},
   "outputs": [
    {
     "data": {
      "text/html": [
       "<div>\n",
       "<style scoped>\n",
       "    .dataframe tbody tr th:only-of-type {\n",
       "        vertical-align: middle;\n",
       "    }\n",
       "\n",
       "    .dataframe tbody tr th {\n",
       "        vertical-align: top;\n",
       "    }\n",
       "\n",
       "    .dataframe thead th {\n",
       "        text-align: right;\n",
       "    }\n",
       "</style>\n",
       "<table border=\"1\" class=\"dataframe\">\n",
       "  <thead>\n",
       "    <tr style=\"text-align: right;\">\n",
       "      <th></th>\n",
       "      <th>scheduled_day</th>\n",
       "      <th>appointment_day</th>\n",
       "    </tr>\n",
       "  </thead>\n",
       "  <tbody>\n",
       "    <tr>\n",
       "      <th>count</th>\n",
       "      <td>110527</td>\n",
       "      <td>110527</td>\n",
       "    </tr>\n",
       "    <tr>\n",
       "      <th>unique</th>\n",
       "      <td>103549</td>\n",
       "      <td>27</td>\n",
       "    </tr>\n",
       "    <tr>\n",
       "      <th>top</th>\n",
       "      <td>2016-05-06 07:09:54+00:00</td>\n",
       "      <td>2016-06-06 00:00:00+00:00</td>\n",
       "    </tr>\n",
       "    <tr>\n",
       "      <th>freq</th>\n",
       "      <td>24</td>\n",
       "      <td>4692</td>\n",
       "    </tr>\n",
       "    <tr>\n",
       "      <th>first</th>\n",
       "      <td>2015-11-10 07:13:56+00:00</td>\n",
       "      <td>2016-04-29 00:00:00+00:00</td>\n",
       "    </tr>\n",
       "    <tr>\n",
       "      <th>last</th>\n",
       "      <td>2016-06-08 20:07:23+00:00</td>\n",
       "      <td>2016-06-08 00:00:00+00:00</td>\n",
       "    </tr>\n",
       "  </tbody>\n",
       "</table>\n",
       "</div>"
      ],
      "text/plain": [
       "                    scheduled_day            appointment_day\n",
       "count                      110527                     110527\n",
       "unique                     103549                         27\n",
       "top     2016-05-06 07:09:54+00:00  2016-06-06 00:00:00+00:00\n",
       "freq                           24                       4692\n",
       "first   2015-11-10 07:13:56+00:00  2016-04-29 00:00:00+00:00\n",
       "last    2016-06-08 20:07:23+00:00  2016-06-08 00:00:00+00:00"
      ]
     },
     "execution_count": 15,
     "metadata": {},
     "output_type": "execute_result"
    }
   ],
   "source": [
    "#look at the description of the date time columns\n",
    "df[[\"scheduled_day\",\"appointment_day\"]].describe()"
   ]
  },
  {
   "cell_type": "markdown",
   "metadata": {},
   "source": [
    "***Notice*** : all the appointments occurred between 2016-04-29 and 2016-06-08. Hence, the data we are having is only for 2016 and for April, May and June of that year."
   ]
  },
  {
   "cell_type": "markdown",
   "metadata": {},
   "source": [
    "<b>Step 3:</b> Extract appointment time and classify it into 4-day parts (Morning, Afternoon, Evening, Night)"
   ]
  },
  {
   "cell_type": "code",
   "execution_count": 16,
   "metadata": {},
   "outputs": [
    {
     "data": {
      "text/plain": [
       "count       110527\n",
       "unique           1\n",
       "top       00:00:00\n",
       "freq        110527\n",
       "Name: appointment_day, dtype: object"
      ]
     },
     "execution_count": 16,
     "metadata": {},
     "output_type": "execute_result"
    }
   ],
   "source": [
    "df['appointment_day'].dt.time.describe()"
   ]
  },
  {
   "cell_type": "markdown",
   "metadata": {},
   "source": [
    "***Notice***: the time of the appointment was not registered. There is no way we could no at which part of the day the appointment took place."
   ]
  },
  {
   "cell_type": "markdown",
   "metadata": {},
   "source": [
    "<b>Step 4:</b> Calculating how early, by days, the appointment was scheduled"
   ]
  },
  {
   "cell_type": "code",
   "execution_count": 17,
   "metadata": {},
   "outputs": [
    {
     "data": {
      "text/plain": [
       "count    110527.000000\n",
       "mean          9.183702\n",
       "std          15.254996\n",
       "min          -7.000000\n",
       "25%          -1.000000\n",
       "50%           3.000000\n",
       "75%          14.000000\n",
       "max         178.000000\n",
       "Name: schedule_days, dtype: float64"
      ]
     },
     "execution_count": 17,
     "metadata": {},
     "output_type": "execute_result"
    }
   ],
   "source": [
    "#schedule_days = appointment_day - scheduled_day\n",
    "df[\"schedule_days\"] = (df[\"appointment_day\"] - df[\"scheduled_day\"]).dt.days\n",
    "\n",
    "df[\"schedule_days\"].describe()"
   ]
  },
  {
   "cell_type": "markdown",
   "metadata": {},
   "source": [
    "***Notice***: 25%+ of the records the schedule date happened after the appointment. that is a huge number to ignore as it will affect the dataset validity, let us look closer to the problem."
   ]
  },
  {
   "cell_type": "code",
   "execution_count": 18,
   "metadata": {},
   "outputs": [
    {
     "data": {
      "image/png": "[encoded data removed]",
      "text/plain": [
       "<Figure size 936x288 with 2 Axes>"
      ]
     },
     "metadata": {
      "needs_background": "light"
     },
     "output_type": "display_data"
    }
   ],
   "source": [
    "#check ditribuption of the data for schedule_days with negative values\n",
    "ax1 = plt.subplot(1,2,1)\n",
    "df.query(\"schedule_days < 0\")[\"schedule_days\"].hist(bins=30,figsize=(13,4))\n",
    "ax1.set_title(\"Days of Scheduling Before Appointment (All Negative)\")\n",
    "ax1.set_xlabel(\"Delta Days (Appointment - Schedule)\")\n",
    "ax1.legend([\"Number of Appointments\"])\n",
    "#check ditribuption of the data for schedule_days below that -1\n",
    "ax2 = plt.subplot(1,2,2)\n",
    "df.query(\"schedule_days < -1\")[\"schedule_days\"].hist(bins=30, figsize=(13,4))\n",
    "ax2.set_title(\"Days of Scheduling Before Appointment (Below -1)\")\n",
    "ax2.set_xlabel(\"Delta Days (Appointment - Schedule)\")\n",
    "ax2.legend([\"Number of Appointments\"])\n",
    "plt.tight_layout()\n"
   ]
  },
  {
   "cell_type": "markdown",
   "metadata": {},
   "source": [
    "***Notice***: most of the invalid records states that appointment was schedule 1 day after. and only 5 records was scheduled for 2 and 7 days after. let us look closer into 1-day invalid schedule dates. "
   ]
  },
  {
   "cell_type": "code",
   "execution_count": 19,
   "metadata": {},
   "outputs": [
    {
     "data": {
      "text/html": [
       "<div>\n",
       "<style scoped>\n",
       "    .dataframe tbody tr th:only-of-type {\n",
       "        vertical-align: middle;\n",
       "    }\n",
       "\n",
       "    .dataframe tbody tr th {\n",
       "        vertical-align: top;\n",
       "    }\n",
       "\n",
       "    .dataframe thead th {\n",
       "        text-align: right;\n",
       "    }\n",
       "</style>\n",
       "<table border=\"1\" class=\"dataframe\">\n",
       "  <thead>\n",
       "    <tr style=\"text-align: right;\">\n",
       "      <th></th>\n",
       "      <th>schedule_days</th>\n",
       "      <th>scheduled_day</th>\n",
       "      <th>appointment_day</th>\n",
       "    </tr>\n",
       "  </thead>\n",
       "  <tbody>\n",
       "    <tr>\n",
       "      <th>0</th>\n",
       "      <td>-1</td>\n",
       "      <td>2016-04-29 18:38:08+00:00</td>\n",
       "      <td>2016-04-29 00:00:00+00:00</td>\n",
       "    </tr>\n",
       "    <tr>\n",
       "      <th>1</th>\n",
       "      <td>-1</td>\n",
       "      <td>2016-04-29 16:08:27+00:00</td>\n",
       "      <td>2016-04-29 00:00:00+00:00</td>\n",
       "    </tr>\n",
       "    <tr>\n",
       "      <th>2</th>\n",
       "      <td>-1</td>\n",
       "      <td>2016-04-29 16:19:04+00:00</td>\n",
       "      <td>2016-04-29 00:00:00+00:00</td>\n",
       "    </tr>\n",
       "    <tr>\n",
       "      <th>3</th>\n",
       "      <td>-1</td>\n",
       "      <td>2016-04-29 17:29:31+00:00</td>\n",
       "      <td>2016-04-29 00:00:00+00:00</td>\n",
       "    </tr>\n",
       "    <tr>\n",
       "      <th>4</th>\n",
       "      <td>-1</td>\n",
       "      <td>2016-04-29 16:07:23+00:00</td>\n",
       "      <td>2016-04-29 00:00:00+00:00</td>\n",
       "    </tr>\n",
       "    <tr>\n",
       "      <th>8</th>\n",
       "      <td>-1</td>\n",
       "      <td>2016-04-29 08:02:16+00:00</td>\n",
       "      <td>2016-04-29 00:00:00+00:00</td>\n",
       "    </tr>\n",
       "    <tr>\n",
       "      <th>19</th>\n",
       "      <td>-1</td>\n",
       "      <td>2016-04-29 10:43:14+00:00</td>\n",
       "      <td>2016-04-29 00:00:00+00:00</td>\n",
       "    </tr>\n",
       "    <tr>\n",
       "      <th>24</th>\n",
       "      <td>-1</td>\n",
       "      <td>2016-04-29 14:19:19+00:00</td>\n",
       "      <td>2016-04-29 00:00:00+00:00</td>\n",
       "    </tr>\n",
       "    <tr>\n",
       "      <th>26</th>\n",
       "      <td>-1</td>\n",
       "      <td>2016-04-29 14:19:42+00:00</td>\n",
       "      <td>2016-04-29 00:00:00+00:00</td>\n",
       "    </tr>\n",
       "    <tr>\n",
       "      <th>28</th>\n",
       "      <td>-1</td>\n",
       "      <td>2016-04-29 15:48:02+00:00</td>\n",
       "      <td>2016-04-29 00:00:00+00:00</td>\n",
       "    </tr>\n",
       "  </tbody>\n",
       "</table>\n",
       "</div>"
      ],
      "text/plain": [
       "    schedule_days             scheduled_day           appointment_day\n",
       "0              -1 2016-04-29 18:38:08+00:00 2016-04-29 00:00:00+00:00\n",
       "1              -1 2016-04-29 16:08:27+00:00 2016-04-29 00:00:00+00:00\n",
       "2              -1 2016-04-29 16:19:04+00:00 2016-04-29 00:00:00+00:00\n",
       "3              -1 2016-04-29 17:29:31+00:00 2016-04-29 00:00:00+00:00\n",
       "4              -1 2016-04-29 16:07:23+00:00 2016-04-29 00:00:00+00:00\n",
       "8              -1 2016-04-29 08:02:16+00:00 2016-04-29 00:00:00+00:00\n",
       "19             -1 2016-04-29 10:43:14+00:00 2016-04-29 00:00:00+00:00\n",
       "24             -1 2016-04-29 14:19:19+00:00 2016-04-29 00:00:00+00:00\n",
       "26             -1 2016-04-29 14:19:42+00:00 2016-04-29 00:00:00+00:00\n",
       "28             -1 2016-04-29 15:48:02+00:00 2016-04-29 00:00:00+00:00"
      ]
     },
     "execution_count": 19,
     "metadata": {},
     "output_type": "execute_result"
    }
   ],
   "source": [
    "#show the appointment date and schedule dates of appointments was scheulded 1 day after\n",
    "df.query(\"schedule_days  == -1\")[[\"schedule_days\",\"scheduled_day\", \"appointment_day\"]].head(10)"
   ]
  },
  {
   "cell_type": "markdown",
   "metadata": {},
   "source": [
    "***Notice***: as expected, the issue of time was not registered in the appointment made the conflict. its clearly that those appointment was scheduled in the same day.\n",
    "\n",
    "let us fix our calculation by taking the difference of the date only without time."
   ]
  },
  {
   "cell_type": "code",
   "execution_count": 20,
   "metadata": {},
   "outputs": [
    {
     "data": {
      "text/plain": [
       "<matplotlib.legend.Legend at 0x24ff3db2f98>"
      ]
     },
     "execution_count": 20,
     "metadata": {},
     "output_type": "execute_result"
    },
    {
     "data": {
      "image/png": "[encoded data removed]",
      "text/plain": [
       "<Figure size 720x360 with 1 Axes>"
      ]
     },
     "metadata": {
      "needs_background": "light"
     },
     "output_type": "display_data"
    }
   ],
   "source": [
    "#apply the difference between scheduled day and appointment day with date only without time.\n",
    "df[\"schedule_days\"] = (df[\"appointment_day\"].dt.date - df[\"scheduled_day\"].dt.date).dt.days\n",
    "#plot histogram of the negative schedule_days to confirm our results\n",
    "df.query(\"schedule_days < 0\")[\"schedule_days\"].hist(bins=30,figsize=(10,5))\n",
    "plt.title(\"Days of Scheduling Before Appointment (All Negative)\")\n",
    "plt.xlabel(\"Delta Days (Appointment - Schedule)\")\n",
    "plt.legend([\"Number of Appointments\"])"
   ]
  },
  {
   "cell_type": "markdown",
   "metadata": {},
   "source": [
    "***Notice***: now we are having only 5 records of appointments was scheduled after its day. let us drop them."
   ]
  },
  {
   "cell_type": "code",
   "execution_count": 21,
   "metadata": {},
   "outputs": [
    {
     "data": {
      "text/plain": [
       "count    110522.000000\n",
       "mean         10.184253\n",
       "std          15.255115\n",
       "min           0.000000\n",
       "25%           0.000000\n",
       "50%           4.000000\n",
       "75%          15.000000\n",
       "max         179.000000\n",
       "Name: schedule_days, dtype: float64"
      ]
     },
     "execution_count": 21,
     "metadata": {},
     "output_type": "execute_result"
    }
   ],
   "source": [
    "#filter our appointments which was scheduled after its day.\n",
    "df = df.query(\"schedule_days >= 0\")\n",
    "#look at schedule days description\n",
    "df[\"schedule_days\"].describe()"
   ]
  },
  {
   "cell_type": "markdown",
   "metadata": {},
   "source": [
    "let us group our schedule days into 4 groups based on the description of the data above:\n",
    "<ul>\n",
    "    <li>0 Days</li>\n",
    "    <li>1 to 4 Days</li>\n",
    "    <li>5 to 15 Days</li>\n",
    "    <li>Above 16 Days</li>\n",
    "</ul>"
   ]
  },
  {
   "cell_type": "code",
   "execution_count": 22,
   "metadata": {},
   "outputs": [],
   "source": [
    "#classifier function that returns the schedule_days group\n",
    "def schedule_days_classifier(schedule_days):\n",
    "    if schedule_days == 0:\n",
    "        return \"0 Days\"\n",
    "    elif schedule_days >= 1 and schedule_days < 5:\n",
    "        return \"1-4 Days\"\n",
    "    elif schedule_days >= 5 and schedule_days < 16:\n",
    "        return \"5-15 Days\"\n",
    "    else:\n",
    "        return \"16+ Days\"\n",
    "#apply classifier and store it in schedule_days    \n",
    "df[\"schedule_days\"] = df[\"schedule_days\"].apply(schedule_days_classifier)"
   ]
  },
  {
   "cell_type": "code",
   "execution_count": 23,
   "metadata": {},
   "outputs": [
    {
     "data": {
      "text/plain": [
       "<matplotlib.axes._subplots.AxesSubplot at 0x24ff3d819b0>"
      ]
     },
     "execution_count": 23,
     "metadata": {},
     "output_type": "execute_result"
    },
    {
     "data": {
      "image/png": "[encoded data removed]",
      "text/plain": [
       "<Figure size 432x288 with 1 Axes>"
      ]
     },
     "metadata": {
      "needs_background": "light"
     },
     "output_type": "display_data"
    }
   ],
   "source": [
    "#static order of the schedule_days group\n",
    "schedule_days_order = [\"0 Days\", \"1-4 Days\", \"5-15 Days\", \"16+ Days\"]\n",
    "#group and plot\n",
    "df.groupby([\"schedule_days\"]).count()[[\"no_show\"]].loc[schedule_days_order].plot.bar()"
   ]
  },
  {
   "cell_type": "markdown",
   "metadata": {},
   "source": [
    "***Notice***: alot of patients takes their appointments in the same day.\n",
    "\n",
    "for now let us drop schedule day column"
   ]
  },
  {
   "cell_type": "code",
   "execution_count": 24,
   "metadata": {},
   "outputs": [
    {
     "data": {
      "text/plain": [
       "Index(['patient_id', 'appointment_id', 'gender', 'appointment_day', 'age',\n",
       "       'neighbourhood', 'scholarship', 'hypertension', 'diabetes',\n",
       "       'alcoholism', 'handicap', 'sms_received', 'no_show', 'schedule_days'],\n",
       "      dtype='object')"
      ]
     },
     "execution_count": 24,
     "metadata": {},
     "output_type": "execute_result"
    }
   ],
   "source": [
    "#drop scheduled_day column\n",
    "df.drop(columns=[\"scheduled_day\"], inplace=True)\n",
    "df.columns"
   ]
  },
  {
   "cell_type": "markdown",
   "metadata": {},
   "source": [
    "<b>Step 5:</b> Extract appointment year, month and weekday for appointment day."
   ]
  },
  {
   "cell_type": "code",
   "execution_count": 25,
   "metadata": {},
   "outputs": [
    {
     "name": "stdout",
     "output_type": "stream",
     "text": [
      "Appointments occured in years of: [2016]\n",
      "Appointments occured in months of: [4 5 6]\n"
     ]
    }
   ],
   "source": [
    "#print appointment unique years\n",
    "print(\"Appointments occured in years of: \" + np.array2string(df['appointment_day'].dt.year.unique()))\n",
    "#print appointment unique months\n",
    "print(\"Appointments occured in months of: \" + np.array2string(df['appointment_day'].dt.month.unique()))"
   ]
  },
  {
   "cell_type": "markdown",
   "metadata": {},
   "source": [
    "***Notice***: It is not confirmed that the appointments took place in 2016 only and in April, May and June. I dont think this extraction for those features will be helpful to us. let us concentrate on the weekday."
   ]
  },
  {
   "cell_type": "code",
   "execution_count": 26,
   "metadata": {},
   "outputs": [
    {
     "data": {
      "text/html": [
       "<div>\n",
       "<style scoped>\n",
       "    .dataframe tbody tr th:only-of-type {\n",
       "        vertical-align: middle;\n",
       "    }\n",
       "\n",
       "    .dataframe tbody tr th {\n",
       "        vertical-align: top;\n",
       "    }\n",
       "\n",
       "    .dataframe thead th {\n",
       "        text-align: right;\n",
       "    }\n",
       "</style>\n",
       "<table border=\"1\" class=\"dataframe\">\n",
       "  <thead>\n",
       "    <tr style=\"text-align: right;\">\n",
       "      <th></th>\n",
       "      <th>appointment_id</th>\n",
       "      <th>week_day</th>\n",
       "    </tr>\n",
       "  </thead>\n",
       "  <tbody>\n",
       "    <tr>\n",
       "      <th>0</th>\n",
       "      <td>5642903</td>\n",
       "      <td>Friday</td>\n",
       "    </tr>\n",
       "    <tr>\n",
       "      <th>1</th>\n",
       "      <td>5642503</td>\n",
       "      <td>Friday</td>\n",
       "    </tr>\n",
       "    <tr>\n",
       "      <th>2</th>\n",
       "      <td>5642549</td>\n",
       "      <td>Friday</td>\n",
       "    </tr>\n",
       "    <tr>\n",
       "      <th>3</th>\n",
       "      <td>5642828</td>\n",
       "      <td>Friday</td>\n",
       "    </tr>\n",
       "    <tr>\n",
       "      <th>4</th>\n",
       "      <td>5642494</td>\n",
       "      <td>Friday</td>\n",
       "    </tr>\n",
       "  </tbody>\n",
       "</table>\n",
       "</div>"
      ],
      "text/plain": [
       "   appointment_id week_day\n",
       "0         5642903   Friday\n",
       "1         5642503   Friday\n",
       "2         5642549   Friday\n",
       "3         5642828   Friday\n",
       "4         5642494   Friday"
      ]
     },
     "execution_count": 26,
     "metadata": {},
     "output_type": "execute_result"
    }
   ],
   "source": [
    "#list of week_days\n",
    "week_day_list = [\"Monday\", \"Tuesday\", \"Wednesday\", \"Thursday\", \"Friday\", \"Saturday\", \"Sunday\"]\n",
    "#week day classifier get day and returns the day name.\n",
    "def week_day_classifier(day):\n",
    "    return week_day_list[day];\n",
    "#apply classifier and store it in week_day\n",
    "df[\"week_day\"] = df[\"appointment_day\"].dt.weekday.apply(week_day_classifier)\n",
    "#print out week day sample data\n",
    "df[[ \"appointment_id\", \"week_day\"]].head()"
   ]
  },
  {
   "cell_type": "markdown",
   "metadata": {},
   "source": [
    "Let us drop appointment day column"
   ]
  },
  {
   "cell_type": "code",
   "execution_count": 27,
   "metadata": {},
   "outputs": [
    {
     "data": {
      "text/plain": [
       "Index(['patient_id', 'appointment_id', 'gender', 'age', 'neighbourhood',\n",
       "       'scholarship', 'hypertension', 'diabetes', 'alcoholism', 'handicap',\n",
       "       'sms_received', 'no_show', 'schedule_days', 'week_day'],\n",
       "      dtype='object')"
      ]
     },
     "execution_count": 27,
     "metadata": {},
     "output_type": "execute_result"
    }
   ],
   "source": [
    "#drop appointment_day column\n",
    "df.drop(columns=[\"appointment_day\"], inplace=True)\n",
    "df.columns"
   ]
  },
  {
   "cell_type": "markdown",
   "metadata": {},
   "source": [
    "<b> Step 6:</b> Clean and classify age into age groups\n",
    "\n",
    "let us first query patients with negative age records."
   ]
  },
  {
   "cell_type": "code",
   "execution_count": 28,
   "metadata": {},
   "outputs": [
    {
     "data": {
      "text/plain": [
       "99832    465943158731293\n",
       "Name: patient_id, dtype: object"
      ]
     },
     "execution_count": 28,
     "metadata": {},
     "output_type": "execute_result"
    }
   ],
   "source": [
    "# get patient id for patients has negative age\n",
    "df.query(\"age < 0\")[\"patient_id\"].astype(str).str[:-2]"
   ]
  },
  {
   "cell_type": "markdown",
   "metadata": {},
   "source": [
    "***Notice***: it is only one record of patients that has negative age with patient ID : 465943158731293. Before we drop out this record, let us try to find if the patient has other records we can get his correct age from."
   ]
  },
  {
   "cell_type": "code",
   "execution_count": 29,
   "metadata": {},
   "outputs": [
    {
     "data": {
      "text/html": [
       "<div>\n",
       "<style scoped>\n",
       "    .dataframe tbody tr th:only-of-type {\n",
       "        vertical-align: middle;\n",
       "    }\n",
       "\n",
       "    .dataframe tbody tr th {\n",
       "        vertical-align: top;\n",
       "    }\n",
       "\n",
       "    .dataframe thead th {\n",
       "        text-align: right;\n",
       "    }\n",
       "</style>\n",
       "<table border=\"1\" class=\"dataframe\">\n",
       "  <thead>\n",
       "    <tr style=\"text-align: right;\">\n",
       "      <th></th>\n",
       "      <th>patient_id</th>\n",
       "      <th>appointment_id</th>\n",
       "      <th>gender</th>\n",
       "      <th>age</th>\n",
       "      <th>neighbourhood</th>\n",
       "      <th>scholarship</th>\n",
       "      <th>hypertension</th>\n",
       "      <th>diabetes</th>\n",
       "      <th>alcoholism</th>\n",
       "      <th>handicap</th>\n",
       "      <th>sms_received</th>\n",
       "      <th>no_show</th>\n",
       "      <th>schedule_days</th>\n",
       "      <th>week_day</th>\n",
       "    </tr>\n",
       "  </thead>\n",
       "  <tbody>\n",
       "    <tr>\n",
       "      <th>99832</th>\n",
       "      <td>4.659432e+14</td>\n",
       "      <td>5775010</td>\n",
       "      <td>F</td>\n",
       "      <td>-1</td>\n",
       "      <td>ROMÃO</td>\n",
       "      <td>0</td>\n",
       "      <td>0</td>\n",
       "      <td>0</td>\n",
       "      <td>0</td>\n",
       "      <td>0</td>\n",
       "      <td>0</td>\n",
       "      <td>No</td>\n",
       "      <td>0 Days</td>\n",
       "      <td>Monday</td>\n",
       "    </tr>\n",
       "  </tbody>\n",
       "</table>\n",
       "</div>"
      ],
      "text/plain": [
       "         patient_id  appointment_id gender  age neighbourhood  scholarship  \\\n",
       "99832  4.659432e+14         5775010      F   -1         ROMÃO            0   \n",
       "\n",
       "       hypertension  diabetes  alcoholism  handicap  sms_received no_show  \\\n",
       "99832             0         0           0         0             0      No   \n",
       "\n",
       "      schedule_days week_day  \n",
       "99832        0 Days   Monday  "
      ]
     },
     "execution_count": 29,
     "metadata": {},
     "output_type": "execute_result"
    }
   ],
   "source": [
    "#find other records for patient id =465943158731293\n",
    "df.query(\"patient_id == '465943158731293'\")"
   ]
  },
  {
   "cell_type": "markdown",
   "metadata": {},
   "source": [
    "the patient has only 1 recod, let us drop it."
   ]
  },
  {
   "cell_type": "code",
   "execution_count": 30,
   "metadata": {},
   "outputs": [],
   "source": [
    "#filter our records with negative age.\n",
    "df = df.query(\"age >= 0\")"
   ]
  },
  {
   "cell_type": "code",
   "execution_count": 31,
   "metadata": {},
   "outputs": [
    {
     "data": {
      "text/plain": [
       "count    110521.000000\n",
       "mean         37.089386\n",
       "std          23.109885\n",
       "min           0.000000\n",
       "25%          18.000000\n",
       "50%          37.000000\n",
       "75%          55.000000\n",
       "max         115.000000\n",
       "Name: age, dtype: float64"
      ]
     },
     "execution_count": 31,
     "metadata": {},
     "output_type": "execute_result"
    }
   ],
   "source": [
    "#let us see the age distribution\n",
    "df[\"age\"].describe()"
   ]
  },
  {
   "cell_type": "markdown",
   "metadata": {},
   "source": [
    "From the age distribution above, let us classify age into 4 age groups:\n",
    "<ul>\n",
    "    <li>[0-18) => Kids</li>\n",
    "<li>[18-37) => Adults</li>\n",
    "<li>[37-55) => Matures</li>\n",
    "<li>[55-115) => Elders</li>\n",
    "    </ul>"
   ]
  },
  {
   "cell_type": "code",
   "execution_count": 32,
   "metadata": {},
   "outputs": [
    {
     "data": {
      "text/html": [
       "<div>\n",
       "<style scoped>\n",
       "    .dataframe tbody tr th:only-of-type {\n",
       "        vertical-align: middle;\n",
       "    }\n",
       "\n",
       "    .dataframe tbody tr th {\n",
       "        vertical-align: top;\n",
       "    }\n",
       "\n",
       "    .dataframe thead th {\n",
       "        text-align: right;\n",
       "    }\n",
       "</style>\n",
       "<table border=\"1\" class=\"dataframe\">\n",
       "  <thead>\n",
       "    <tr style=\"text-align: right;\">\n",
       "      <th></th>\n",
       "      <th>patient_id</th>\n",
       "      <th>gender</th>\n",
       "      <th>age_group</th>\n",
       "    </tr>\n",
       "  </thead>\n",
       "  <tbody>\n",
       "    <tr>\n",
       "      <th>0</th>\n",
       "      <td>2.987250e+13</td>\n",
       "      <td>F</td>\n",
       "      <td>Elders</td>\n",
       "    </tr>\n",
       "    <tr>\n",
       "      <th>1</th>\n",
       "      <td>5.589978e+14</td>\n",
       "      <td>M</td>\n",
       "      <td>Elders</td>\n",
       "    </tr>\n",
       "    <tr>\n",
       "      <th>2</th>\n",
       "      <td>4.262962e+12</td>\n",
       "      <td>F</td>\n",
       "      <td>Elders</td>\n",
       "    </tr>\n",
       "    <tr>\n",
       "      <th>3</th>\n",
       "      <td>8.679512e+11</td>\n",
       "      <td>F</td>\n",
       "      <td>Kids</td>\n",
       "    </tr>\n",
       "    <tr>\n",
       "      <th>4</th>\n",
       "      <td>8.841186e+12</td>\n",
       "      <td>F</td>\n",
       "      <td>Elders</td>\n",
       "    </tr>\n",
       "  </tbody>\n",
       "</table>\n",
       "</div>"
      ],
      "text/plain": [
       "     patient_id gender age_group\n",
       "0  2.987250e+13      F    Elders\n",
       "1  5.589978e+14      M    Elders\n",
       "2  4.262962e+12      F    Elders\n",
       "3  8.679512e+11      F      Kids\n",
       "4  8.841186e+12      F    Elders"
      ]
     },
     "execution_count": 32,
     "metadata": {},
     "output_type": "execute_result"
    }
   ],
   "source": [
    "#age classifier function\n",
    "def age_classifier(age):\n",
    "    if age >= 0 and age <18:\n",
    "        return \"Kids\"\n",
    "    elif age >= 18 and age < 37:\n",
    "        return \"Adults\"\n",
    "    elif age >= 37 and age < 55:\n",
    "        return \"Matures\"\n",
    "    else:\n",
    "        return \"Elders\"\n",
    "#apply age classifier and store into age_group    \n",
    "df[\"age_group\"] = df[\"age\"].apply(age_classifier)\n",
    "#drop age column\n",
    "df.drop(columns=[\"age\"], inplace=True)\n",
    "#print out patinet information smaple data\n",
    "df[[\"patient_id\", \"gender\", \"age_group\"]].head()"
   ]
  },
  {
   "cell_type": "markdown",
   "metadata": {},
   "source": [
    "<b>Step 7:</b> Correction of handicap invalid values. "
   ]
  },
  {
   "cell_type": "markdown",
   "metadata": {},
   "source": [
    "As handicap describes is the patient is handicapped or not, then i am going to consider any value 1 or above states the patient is handicapped, and 0 state the patient is not."
   ]
  },
  {
   "cell_type": "code",
   "execution_count": 33,
   "metadata": {},
   "outputs": [
    {
     "data": {
      "text/html": [
       "<div>\n",
       "<style scoped>\n",
       "    .dataframe tbody tr th:only-of-type {\n",
       "        vertical-align: middle;\n",
       "    }\n",
       "\n",
       "    .dataframe tbody tr th {\n",
       "        vertical-align: top;\n",
       "    }\n",
       "\n",
       "    .dataframe thead th {\n",
       "        text-align: right;\n",
       "    }\n",
       "</style>\n",
       "<table border=\"1\" class=\"dataframe\">\n",
       "  <thead>\n",
       "    <tr style=\"text-align: right;\">\n",
       "      <th></th>\n",
       "      <th>handicap</th>\n",
       "    </tr>\n",
       "  </thead>\n",
       "  <tbody>\n",
       "    <tr>\n",
       "      <th>count</th>\n",
       "      <td>110521.000000</td>\n",
       "    </tr>\n",
       "    <tr>\n",
       "      <th>mean</th>\n",
       "      <td>0.020259</td>\n",
       "    </tr>\n",
       "    <tr>\n",
       "      <th>std</th>\n",
       "      <td>0.140884</td>\n",
       "    </tr>\n",
       "    <tr>\n",
       "      <th>min</th>\n",
       "      <td>0.000000</td>\n",
       "    </tr>\n",
       "    <tr>\n",
       "      <th>25%</th>\n",
       "      <td>0.000000</td>\n",
       "    </tr>\n",
       "    <tr>\n",
       "      <th>50%</th>\n",
       "      <td>0.000000</td>\n",
       "    </tr>\n",
       "    <tr>\n",
       "      <th>75%</th>\n",
       "      <td>0.000000</td>\n",
       "    </tr>\n",
       "    <tr>\n",
       "      <th>max</th>\n",
       "      <td>1.000000</td>\n",
       "    </tr>\n",
       "  </tbody>\n",
       "</table>\n",
       "</div>"
      ],
      "text/plain": [
       "            handicap\n",
       "count  110521.000000\n",
       "mean        0.020259\n",
       "std         0.140884\n",
       "min         0.000000\n",
       "25%         0.000000\n",
       "50%         0.000000\n",
       "75%         0.000000\n",
       "max         1.000000"
      ]
     },
     "execution_count": 33,
     "metadata": {},
     "output_type": "execute_result"
    }
   ],
   "source": [
    "#make handicap value above 1 to be equal to 1\n",
    "df.loc[df.handicap >1 , 'handicap'] =1\n",
    "df[[\"handicap\"]].describe()"
   ]
  },
  {
   "cell_type": "markdown",
   "metadata": {},
   "source": [
    "<b>Step 8:</b> Apply column data types corrections."
   ]
  },
  {
   "cell_type": "code",
   "execution_count": 34,
   "metadata": {},
   "outputs": [
    {
     "data": {
      "text/plain": [
       "scholarship     bool\n",
       "hypertension    bool\n",
       "diabetes        bool\n",
       "alcoholism      bool\n",
       "handicap        bool\n",
       "sms_received    bool\n",
       "dtype: object"
      ]
     },
     "execution_count": 34,
     "metadata": {},
     "output_type": "execute_result"
    }
   ],
   "source": [
    "#convert scholarship, hypertension, diabetes, alcoholism, handicap, sms_received to boolean\n",
    "df[\"scholarship\"] = df[\"scholarship\"].astype(bool)\n",
    "df[\"hypertension\"] = df[\"hypertension\"].astype(bool)\n",
    "df[\"diabetes\"] = df[\"diabetes\"].astype(bool)\n",
    "df[\"alcoholism\"] = df[\"alcoholism\"].astype(bool)\n",
    "df[\"handicap\"] = df[\"handicap\"].astype(bool)\n",
    "df[\"sms_received\"] = df[\"sms_received\"].astype(bool)\n",
    "df[[\"scholarship\",\"hypertension\", \"diabetes\", \"alcoholism\", \"handicap\", \"sms_received\"]].dtypes"
   ]
  },
  {
   "cell_type": "code",
   "execution_count": 35,
   "metadata": {
    "scrolled": true
   },
   "outputs": [
    {
     "data": {
      "text/plain": [
       "no_show    bool\n",
       "dtype: object"
      ]
     },
     "execution_count": 35,
     "metadata": {},
     "output_type": "execute_result"
    }
   ],
   "source": [
    "#Convert no_show column from Yes/No into True/False\n",
    "def noshow_to_boolean(status):\n",
    "    if status == 'No':\n",
    "        return False\n",
    "    else:\n",
    "        return True\n",
    "    \n",
    "df[\"no_show\"] = df[\"no_show\"].apply(noshow_to_boolean)\n",
    "df[[\"no_show\"]].dtypes"
   ]
  },
  {
   "cell_type": "markdown",
   "metadata": {},
   "source": [
    "<b>Step 9:</b> Drop unwanted colmuns for data set."
   ]
  },
  {
   "cell_type": "code",
   "execution_count": 36,
   "metadata": {},
   "outputs": [
    {
     "data": {
      "text/plain": [
       "Index(['gender', 'neighbourhood', 'scholarship', 'hypertension', 'diabetes',\n",
       "       'alcoholism', 'handicap', 'sms_received', 'no_show', 'schedule_days',\n",
       "       'week_day', 'age_group'],\n",
       "      dtype='object')"
      ]
     },
     "execution_count": 36,
     "metadata": {},
     "output_type": "execute_result"
    }
   ],
   "source": [
    "#dropping patient_id and appointment_id\n",
    "df.drop(columns=['patient_id', 'appointment_id'], inplace=True)\n",
    "df.columns"
   ]
  },
  {
   "cell_type": "markdown",
   "metadata": {},
   "source": [
    "<b>Step 10</b> Order columns and store data set into new CSV."
   ]
  },
  {
   "cell_type": "code",
   "execution_count": 37,
   "metadata": {},
   "outputs": [],
   "source": [
    "#order data set columns\n",
    "df = df[['gender', 'age_group', 'neighbourhood','scholarship','hypertension', 'diabetes',\n",
    "       'alcoholism', 'handicap', 'week_day', 'schedule_days', 'sms_received','no_show']]\n",
    "#store data frame into cleaned csv\n",
    "df.to_csv('no_show_cleaned.csv', index=False)"
   ]
  },
  {
   "cell_type": "markdown",
   "metadata": {},
   "source": [
    "<a id='eda'></a>\n",
    "## Exploratory Data Analysis\n",
    "\n"
   ]
  },
  {
   "cell_type": "code",
   "execution_count": 38,
   "metadata": {},
   "outputs": [],
   "source": [
    "#load cleaned Data Frame\n",
    "df_clean = pd.read_csv('no_show_cleaned.csv')"
   ]
  },
  {
   "cell_type": "markdown",
   "metadata": {},
   "source": [
    "### Which genders and age groups, patients are most likely not to show up to their appointments?"
   ]
  },
  {
   "cell_type": "markdown",
   "metadata": {},
   "source": [
    "Let us compare Number of Males to Number of Females and then Number of show-up and no-show-up for each gender"
   ]
  },
  {
   "cell_type": "code",
   "execution_count": 39,
   "metadata": {},
   "outputs": [],
   "source": [
    "#group by gender\n",
    "gender_all = df_clean.groupby([\"gender\"])[[\"gender\"]].count()\n",
    "#Calculate percentage of appointments per gender\n",
    "gender_all.columns = [\"Gender Rate\"]\n",
    "gender_all[\"Gender Rate\"] = gender_all[\"Gender Rate\"] / sum(gender_all[\"Gender Rate\"]) * 100\n",
    "gender_all.reset_index(inplace=True)"
   ]
  },
  {
   "cell_type": "code",
   "execution_count": 40,
   "metadata": {},
   "outputs": [],
   "source": [
    "#group by gender and no_show\n",
    "gender_by_no_show = df_clean.groupby([\"gender\", \"no_show\"])[[\"gender\"]].count()\n",
    "#calculate percentage of appointment per gender per appointment show up status\n",
    "gender_by_no_show.columns = [\"no_show_count\"]\n",
    "gender_by_no_show.reset_index(inplace=True)\n",
    "gender_by_no_show.columns = [\"Gender\", \"No Show Status\", \"No Show Count\"]\n",
    "gender_by_no_show =  pd.DataFrame(gender_by_no_show.groupby([\"Gender\",\"No Show Status\"])[\"No Show Count\"].sum() / gender_by_no_show.groupby([\"Gender\"])[\"No Show Count\"].sum() * 100)\n",
    "gender_by_no_show = gender_by_no_show.unstack()"
   ]
  },
  {
   "cell_type": "code",
   "execution_count": 41,
   "metadata": {},
   "outputs": [
    {
     "data": {
      "text/plain": [
       "<matplotlib.legend.Legend at 0x24ff3d09160>"
      ]
     },
     "execution_count": 41,
     "metadata": {},
     "output_type": "execute_result"
    },
    {
     "data": {
      "image/png": "[encoded data removed]",
      "text/plain": [
       "<Figure size 1080x360 with 2 Axes>"
      ]
     },
     "metadata": {
      "needs_background": "light"
     },
     "output_type": "display_data"
    }
   ],
   "source": [
    "fig, axs = plt.subplots(1,2,figsize=(15,5))\n",
    "fig.suptitle('Appointment per Gender', fontsize=16)\n",
    "\n",
    "#plot percentage of appointments per gender\n",
    "gender_all.plot.bar(ax=axs[0])\n",
    "axs[0].set_xticklabels((\"Female\",\"Male\"), rotation=0)\n",
    "axs[0].set_ylim(top=100)\n",
    "axs[0].set_xlabel(\"Gender\")\n",
    "axs[0].legend([\"% of Appointments per Gender\"])\n",
    "\n",
    "#plot percentage of appointment per gender per appointment show up status\n",
    "gender_by_no_show.plot.bar(ax=axs[1], stacked=True)\n",
    "axs[1].set_xticklabels((\"Female\",\"Male\"), rotation=0)\n",
    "axs[1].set_ylim(top=100)\n",
    "axs[1].set_xlabel(\"Gender\")\n",
    "axs[1].legend([\"Show Up\", \"No Show\"])"
   ]
  },
  {
   "cell_type": "markdown",
   "metadata": {},
   "source": [
    "***Observation 1***: Appointments of femalre patients are higher than male patients, BUT, the rate of not showing up to the appointments are closely the same.\n",
    "\n",
    "Now, let us compare number of appointments per age groups."
   ]
  },
  {
   "cell_type": "code",
   "execution_count": 42,
   "metadata": {},
   "outputs": [],
   "source": [
    "#group by age group\n",
    "age_group_all = df_clean.groupby([\"age_group\"])[[\"age_group\"]].count()\n",
    "#calculate percentage of appointments per age group \n",
    "age_group_all.columns = [\"Age Group Rate\"]\n",
    "age_group_all[\"Age Group Rate\"] = age_group_all[\"Age Group Rate\"] / sum(age_group_all[\"Age Group Rate\"]) * 100\n",
    "age_group_all.reset_index(inplace=True)"
   ]
  },
  {
   "cell_type": "code",
   "execution_count": 43,
   "metadata": {},
   "outputs": [],
   "source": [
    "#group by age group per appointment show up status\n",
    "age_group_no_show = df_clean.groupby([\"age_group\", \"no_show\"])[[\"age_group\"]].count()\n",
    "#calculate percentage of appointments per age group per appointment show up status\n",
    "age_group_no_show.columns = [\"age_group_count\"]\n",
    "age_group_no_show.reset_index(inplace=True)\n",
    "age_group_no_show.columns = [\"Age Group\", \"No Show Status\", \"No Show Count\"]\n",
    "age_group_no_show = pd.DataFrame(age_group_no_show.groupby([\"Age Group\",\"No Show Status\"])[\"No Show Count\"].sum() / age_group_no_show.groupby([\"Age Group\"])[\"No Show Count\"].sum() * 100)\n",
    "age_group_no_show = age_group_no_show.unstack()"
   ]
  },
  {
   "cell_type": "code",
   "execution_count": 44,
   "metadata": {},
   "outputs": [
    {
     "data": {
      "text/plain": [
       "<matplotlib.legend.Legend at 0x24ff3e02a58>"
      ]
     },
     "execution_count": 44,
     "metadata": {},
     "output_type": "execute_result"
    },
    {
     "data": {
      "image/png": "[encoded data removed]",
      "text/plain": [
       "<Figure size 1080x360 with 2 Axes>"
      ]
     },
     "metadata": {
      "needs_background": "light"
     },
     "output_type": "display_data"
    }
   ],
   "source": [
    "fig, axs = plt.subplots(1,2,figsize=(15,5))\n",
    "fig.suptitle('Appointment per Age Group', fontsize=16)\n",
    "\n",
    "#plot percentage of appointments per age group \n",
    "age_group_all.plot.bar(ax=axs[0])\n",
    "axs[0].set_xticklabels((\"Under 18\",\"19 to 37\", \"38 to 55\", \"Above 55\"), rotation=0)\n",
    "axs[0].set_ylim(top=30)\n",
    "axs[0].set_xlabel(\"Age Group\")\n",
    "axs[0].legend([\"% of Appointments per Age Group\"])\n",
    "#plot percentage of appointments per age group per appointment show up status\n",
    "age_group_no_show.plot.bar(ax=axs[1], stacked=True)\n",
    "axs[1].set_xticklabels((\"Under 18\",\"19 to 37\", \"38 to 55\", \"Above 55\"), rotation=0)\n",
    "axs[1].set_ylim(top=100)\n",
    "axs[1].set_xlabel(\"Age Group\")\n",
    "axs[1].legend([\"Show Up\", \"No Show\"])"
   ]
  },
  {
   "cell_type": "markdown",
   "metadata": {},
   "source": [
    "***Observation 2***: Ages between 19 to 37 has greatest number of appointments, as well it has the lowest rate of not showing up to their appointments. All age groups has a change of not showing up to their appointments within range of 15 to 25%."
   ]
  },
  {
   "cell_type": "markdown",
   "metadata": {},
   "source": [
    "### Is early scheduling could be a reason for not showing to appointments? How SMS reminder may help?"
   ]
  },
  {
   "cell_type": "markdown",
   "metadata": {},
   "source": [
    "Let us compare Number of appointments per groups of early scheduling days "
   ]
  },
  {
   "cell_type": "code",
   "execution_count": 45,
   "metadata": {},
   "outputs": [],
   "source": [
    "#group by schedule days group\n",
    "schedule_days_all = df_clean.groupby([\"schedule_days\"])[[\"schedule_days\"]].count().loc[schedule_days_order]\n",
    "#calculate percentage of appointments per schedule day groups\n",
    "schedule_days_all.columns = [\"Schedule Days Rate\"]\n",
    "schedule_days_all[\"Schedule Days Rate\"] = schedule_days_all[\"Schedule Days Rate\"] / sum(schedule_days_all[\"Schedule Days Rate\"]) * 100\n",
    "schedule_days_all.reset_index(inplace=True)"
   ]
  },
  {
   "cell_type": "code",
   "execution_count": 46,
   "metadata": {},
   "outputs": [],
   "source": [
    "#group by schedule days group and appointment show up status\n",
    "schedule_days_no_show = df_clean.groupby([\"schedule_days\", \"no_show\"])[[\"schedule_days\"]].count()\n",
    "#calcualte percentage of appointments per schedule day group per appointment show up status\n",
    "schedule_days_no_show.columns = [\"schedule_days_count\"]\n",
    "schedule_days_no_show.reset_index(inplace=True)\n",
    "schedule_days_no_show.columns = [\"Schedule Days\", \"No Show Status\", \"No Show Count\"]\n",
    "schedule_days_no_show = pd.DataFrame(schedule_days_no_show.groupby([\"Schedule Days\",\"No Show Status\"])[\"No Show Count\"].sum() / schedule_days_no_show.groupby([\"Schedule Days\"])[\"No Show Count\"].sum() * 100)\n",
    "schedule_days_no_show = schedule_days_no_show.unstack().loc[schedule_days_order]"
   ]
  },
  {
   "cell_type": "code",
   "execution_count": 47,
   "metadata": {},
   "outputs": [
    {
     "data": {
      "text/plain": [
       "<matplotlib.legend.Legend at 0x24ff41ce080>"
      ]
     },
     "execution_count": 47,
     "metadata": {},
     "output_type": "execute_result"
    },
    {
     "data": {
      "image/png": "[encoded data removed]",
      "text/plain": [
       "<Figure size 1080x360 with 2 Axes>"
      ]
     },
     "metadata": {
      "needs_background": "light"
     },
     "output_type": "display_data"
    }
   ],
   "source": [
    "fig, axs = plt.subplots(1,2,figsize=(15,5))\n",
    "fig.suptitle('Appointment per Schedule Days', fontsize=16)\n",
    "\n",
    "#plot percentage of appointments per schedule day groups\n",
    "schedule_days_all.plot.bar(ax=axs[0])\n",
    "axs[0].set_xticklabels(schedule_days_order, rotation=0)\n",
    "axs[0].set_ylim(top=30)\n",
    "axs[0].set_xlabel(\"Schedule Days\")\n",
    "axs[0].legend([\"% of Appointments per Schedule Days\"])\n",
    "\n",
    "#plot percentage of appointments per schedule day group per appointment show up status\n",
    "schedule_days_no_show.plot.bar(ax=axs[1], stacked=True)\n",
    "axs[1].set_xticklabels(schedule_days_order, rotation=0)\n",
    "axs[1].set_ylim(top=100)\n",
    "axs[1].set_xlabel(\"Schedule Days\")\n",
    "axs[1].legend([\"Show Up\", \"No Show\"])"
   ]
  },
  {
   "cell_type": "markdown",
   "metadata": {},
   "source": [
    "***Observation 3***: most of the patients schedule their appointments in the same day, and those patients are most likely to show up in a percentage around 95%. as early as the patient schedule their appointments are most likely not going to show up to their appointments."
   ]
  },
  {
   "cell_type": "markdown",
   "metadata": {},
   "source": [
    "Now let us look how SMS reminders to the patients might affect the appointment show up status rate."
   ]
  },
  {
   "cell_type": "code",
   "execution_count": 48,
   "metadata": {},
   "outputs": [],
   "source": [
    "#get only show up appointments and group by schedule days per sms_received per appointment show up status\n",
    "schedule_days_sms_showed_up = df_clean.query(\"no_show == False\").groupby([\"schedule_days\", \"sms_received\", \"no_show\"])[[\"schedule_days\"]].count()\n",
    "#calcualte the percentage of scheudle days per sms received per appointment show up status\n",
    "schedule_days_sms_showed_up.columns = [\"schedule_days_count\"]\n",
    "schedule_days_sms_showed_up.reset_index(inplace=True)\n",
    "schedule_days_sms_showed_up.columns = [\"Schedule Days\",\"SMS Recieved\", \"No Show Status\", \"No Show Count\"]\n",
    "schedule_days_sms_showed_up = pd.DataFrame(schedule_days_sms_showed_up.groupby([\"Schedule Days\",\"SMS Recieved\",\"No Show Status\"])[\"No Show Count\"].sum() / schedule_days_sms_showed_up.groupby([\"Schedule Days\"])[\"No Show Count\"].sum() * 100)\n",
    "#unstack twice the data\n",
    "schedule_days_sms_showed_up = schedule_days_sms_showed_up.unstack().unstack().loc[schedule_days_order]"
   ]
  },
  {
   "cell_type": "code",
   "execution_count": 49,
   "metadata": {},
   "outputs": [],
   "source": [
    "#get only no-show appointments and group by schedule days per sms_received per appointment show up status\n",
    "schedule_days_sms_no_show = df_clean.query(\"no_show == True\").groupby([\"schedule_days\", \"sms_received\", \"no_show\"])[[\"schedule_days\"]].count()\n",
    "#calcualte the percentage of scheudle days per sms received per appointment show up status\n",
    "schedule_days_sms_no_show.columns = [\"schedule_days_count\"]\n",
    "schedule_days_sms_no_show.reset_index(inplace=True)\n",
    "schedule_days_sms_no_show.columns = [\"Schedule Days\",\"SMS Recieved\", \"No Show Status\", \"No Show Count\"]\n",
    "schedule_days_sms_no_show = pd.DataFrame(schedule_days_sms_no_show.groupby([\"Schedule Days\",\"SMS Recieved\",\"No Show Status\"])[\"No Show Count\"].sum() / schedule_days_sms_no_show.groupby([\"Schedule Days\"])[\"No Show Count\"].sum() * 100)\n",
    "#unstack twice the data\n",
    "schedule_days_sms_no_show = schedule_days_sms_no_show.unstack().unstack().loc[schedule_days_order]"
   ]
  },
  {
   "cell_type": "code",
   "execution_count": 50,
   "metadata": {},
   "outputs": [
    {
     "data": {
      "text/plain": [
       "<matplotlib.legend.Legend at 0x24ff42cfef0>"
      ]
     },
     "execution_count": 50,
     "metadata": {},
     "output_type": "execute_result"
    },
    {
     "data": {
      "image/png": "[encoded data removed]",
      "text/plain": [
       "<Figure size 1080x360 with 2 Axes>"
      ]
     },
     "metadata": {
      "needs_background": "light"
     },
     "output_type": "display_data"
    }
   ],
   "source": [
    "fig, axs = plt.subplots(1,2,figsize=(15,5))\n",
    "fig.suptitle('SMS Reminder Affect on Early Scheduling', fontsize=16)\n",
    "\n",
    "schedule_days_sms_showed_up.plot.bar(ax=axs[0],stacked=True);\n",
    "axs[0].set_xticklabels(schedule_days_order, rotation=0)\n",
    "axs[0].set_ylim(top=100)\n",
    "axs[0].set_title(\"Show-Up Appointment\")\n",
    "axs[0].set_xlabel(\"Schedule Days\")\n",
    "axs[0].legend([\"SMS Recieved\", \"SMS Not Recieved\"])\n",
    "\n",
    "schedule_days_sms_no_show.plot.bar(ax=axs[1], stacked=True)\n",
    "axs[1].set_xticklabels(schedule_days_order, rotation=0)\n",
    "axs[1].set_ylim(top=100)\n",
    "axs[1].set_title(\"No-Show APpointment\")\n",
    "axs[1].set_xlabel(\"Schedule Days\")\n",
    "axs[1].legend([\"SMS Recieved\", \"SMS Not Recieved\"])"
   ]
  },
  {
   "cell_type": "markdown",
   "metadata": {},
   "source": [
    "***Observation 4***: SMS reminders has small affect on the appointments was scheduled before 5+ days in an amount of 10%."
   ]
  },
  {
   "cell_type": "markdown",
   "metadata": {},
   "source": [
    "### At which part of the day patients are most likely to skip their scheduled appointments? Morning, Afternoon, Evening or Night?"
   ]
  },
  {
   "cell_type": "markdown",
   "metadata": {},
   "source": [
    "As the appointment time was not recorded, this question will be skipped. "
   ]
  },
  {
   "cell_type": "markdown",
   "metadata": {},
   "source": [
    "### At which day of the week patients are most likely to skip their scheduled appointments?How is that changing over the years and months?"
   ]
  },
  {
   "cell_type": "markdown",
   "metadata": {},
   "source": [
    "Let us compare Number of appointments per weekdays"
   ]
  },
  {
   "cell_type": "code",
   "execution_count": 51,
   "metadata": {},
   "outputs": [],
   "source": [
    "#group by week days\n",
    "weekday_all = df_clean.groupby([\"week_day\"])[[\"week_day\"]].count()\n",
    "#calculate percentage of appointment per week day\n",
    "weekday_all.columns = [\"Week Day Rate\"]\n",
    "weekday_all[\"Week Day Rate\"] = weekday_all[\"Week Day Rate\"] / sum(weekday_all[\"Week Day Rate\"]) * 100\n",
    "#order index column by weekday order\n",
    "weekday_all = weekday_all.reindex(week_day_list)"
   ]
  },
  {
   "cell_type": "code",
   "execution_count": 52,
   "metadata": {},
   "outputs": [],
   "source": [
    "#group by week days per appointment show up status\n",
    "week_day_no_show = df_clean.groupby([\"week_day\", \"no_show\"])[[\"week_day\"]].count()\n",
    "#calculate percentage of appointment per week day per appointment show up status\n",
    "week_day_no_show.columns = [\"week_day_count\"]\n",
    "week_day_no_show.reset_index(inplace=True)\n",
    "week_day_no_show.columns = [\"Week Day\", \"No Show Status\", \"No Show Count\"]\n",
    "week_day_no_show = pd.DataFrame(week_day_no_show.groupby([\"Week Day\",\"No Show Status\"])[\"No Show Count\"].sum() / week_day_no_show.groupby([\"Week Day\"])[\"No Show Count\"].sum() * 100)\n",
    "week_day_no_show = week_day_no_show.unstack()\n",
    "#order index by weekday order\n",
    "week_day_no_show = week_day_no_show.reindex(week_day_list)"
   ]
  },
  {
   "cell_type": "code",
   "execution_count": 53,
   "metadata": {},
   "outputs": [
    {
     "data": {
      "text/plain": [
       "<matplotlib.legend.Legend at 0x24ff43ede10>"
      ]
     },
     "execution_count": 53,
     "metadata": {},
     "output_type": "execute_result"
    },
    {
     "data": {
      "image/png": "[encoded data removed]",
      "text/plain": [
       "<Figure size 1080x360 with 2 Axes>"
      ]
     },
     "metadata": {
      "needs_background": "light"
     },
     "output_type": "display_data"
    }
   ],
   "source": [
    "fig, axs = plt.subplots(1,2,figsize=(15,5))\n",
    "fig.suptitle('Appointments per Weekday', fontsize=16)\n",
    "\n",
    "#plot of percentage of appointment per week day\n",
    "weekday_all.plot.bar(ax=axs[0],stacked=True);\n",
    "axs[0].set_xticklabels(week_day_list, rotation=0)\n",
    "axs[0].set_ylim(top=30)\n",
    "axs[0].set_xlabel(\"Week Days\")\n",
    "axs[0].legend([\"% of Appointments per Week Days\"])\n",
    "\n",
    "#plot of percentage of appointment per week day per appointment show up status\n",
    "week_day_no_show.plot.bar(ax=axs[1], stacked=True)\n",
    "axs[1].set_xticklabels(week_day_list, rotation=0)\n",
    "axs[1].set_ylim(top=100)\n",
    "axs[1].set_xlabel(\"Week Days\")\n",
    "axs[1].legend([\"Show Up\", \"No Show\"])"
   ]
  },
  {
   "cell_type": "markdown",
   "metadata": {},
   "source": [
    "***Observation 5***: Patients scheudle their appointments to be on the weekdays not in the weekends. And all of the weekdays has almost equal rate of patients no-show to their appointments. \n",
    "\n",
    "We are unable to study the changing of no-show rate over the months and the years, as the data is only representing short interval of time. "
   ]
  },
  {
   "cell_type": "markdown",
   "metadata": {},
   "source": [
    "### Is there any correlation between patients positive records in hypertension, diabetes, alcoholism or / and handicap and them not showing up to their appointments?"
   ]
  },
  {
   "cell_type": "markdown",
   "metadata": {},
   "source": [
    "let us compare each health feature with rate of appointment show up status."
   ]
  },
  {
   "cell_type": "code",
   "execution_count": 54,
   "metadata": {},
   "outputs": [],
   "source": [
    "#group by hypertenstion per appointment show up status\n",
    "hipertension_no_show = df_clean.groupby([\"hypertension\", \"no_show\"])[[\"no_show\"]].count()\n",
    "#calculate the percentage appointments of hypertentation  per appointment show up status\n",
    "hipertension_no_show.columns = [\"hypertension_count\"]\n",
    "hipertension_no_show.reset_index(inplace=True)\n",
    "hipertension_no_show.columns = [\"Hypertension\", \"No Show Status\", \"No Show Count\"]\n",
    "hipertension_no_show = pd.DataFrame(hipertension_no_show.groupby([\"Hypertension\",\"No Show Status\"])[\"No Show Count\"].sum() / hipertension_no_show.groupby([\"Hypertension\"])[\"No Show Count\"].sum() * 100)\n",
    "hipertension_no_show = hipertension_no_show.unstack()"
   ]
  },
  {
   "cell_type": "code",
   "execution_count": 55,
   "metadata": {},
   "outputs": [],
   "source": [
    "#group by diabetes per appointment show up status\n",
    "diabetes_no_show = df_clean.groupby([\"diabetes\", \"no_show\"])[[\"no_show\"]].count()\n",
    "#calculate the percentage appointments of diabetes per appointment show up status\n",
    "diabetes_no_show.columns = [\"diabetes_count\"]\n",
    "diabetes_no_show.reset_index(inplace=True)\n",
    "diabetes_no_show.columns = [\"Diabetes\", \"No Show Status\", \"No Show Count\"]\n",
    "diabetes_no_show = pd.DataFrame(diabetes_no_show.groupby([\"Diabetes\",\"No Show Status\"])[\"No Show Count\"].sum() / diabetes_no_show.groupby([\"Diabetes\"])[\"No Show Count\"].sum() * 100)\n",
    "diabetes_no_show = diabetes_no_show.unstack()"
   ]
  },
  {
   "cell_type": "code",
   "execution_count": 56,
   "metadata": {},
   "outputs": [],
   "source": [
    "#group by diabetes per appointment show up status\n",
    "alcoholism_no_show = df_clean.groupby([\"alcoholism\", \"no_show\"])[[\"no_show\"]].count()\n",
    "#calculate the percentage appointments of alcoholism per appointment show up status\n",
    "alcoholism_no_show.columns = [\"alcoholism_count\"]\n",
    "alcoholism_no_show.reset_index(inplace=True)\n",
    "alcoholism_no_show.columns = [\"Alcoholism\", \"No Show Status\", \"No Show Count\"]\n",
    "alcoholism_no_show = pd.DataFrame(alcoholism_no_show.groupby([\"Alcoholism\",\"No Show Status\"])[\"No Show Count\"].sum() / alcoholism_no_show.groupby([\"Alcoholism\"])[\"No Show Count\"].sum() * 100)\n",
    "alcoholism_no_show = alcoholism_no_show.unstack()"
   ]
  },
  {
   "cell_type": "code",
   "execution_count": 57,
   "metadata": {},
   "outputs": [],
   "source": [
    "#group by handicap per appointment show up status\n",
    "handcap_no_show = df_clean.groupby([\"handicap\", \"no_show\"])[[\"no_show\"]].count()\n",
    "#calculate the percentage appointments of handicap per appointment show up status\n",
    "handcap_no_show.columns = [\"handicap_count\"]\n",
    "handcap_no_show.reset_index(inplace=True)\n",
    "handcap_no_show.columns = [\"Handicap\", \"No Show Status\", \"No Show Count\"]\n",
    "handcap_no_show = pd.DataFrame(handcap_no_show.groupby([\"Handicap\",\"No Show Status\"])[\"No Show Count\"].sum() / handcap_no_show.groupby([\"Handicap\"])[\"No Show Count\"].sum() * 100)\n",
    "handcap_no_show = handcap_no_show.unstack()"
   ]
  },
  {
   "cell_type": "code",
   "execution_count": 58,
   "metadata": {},
   "outputs": [
    {
     "data": {
      "text/plain": [
       "<matplotlib.legend.Legend at 0x24ff51607b8>"
      ]
     },
     "execution_count": 58,
     "metadata": {},
     "output_type": "execute_result"
    },
    {
     "data": {
      "image/png": "[encoded data removed]",
      "text/plain": [
       "<Figure size 1440x360 with 4 Axes>"
      ]
     },
     "metadata": {
      "needs_background": "light"
     },
     "output_type": "display_data"
    }
   ],
   "source": [
    "fig, axs = plt.subplots(1,4,figsize=(20,5))\n",
    "fig.suptitle('Halth Status VS No Show', fontsize=16)\n",
    "#plot hypertenstion per appointment show up status\n",
    "hipertension_no_show.plot.bar(ax=axs[0],stacked=True);\n",
    "axs[0].set_xticklabels((\"False\", \"True\"),rotation=0)\n",
    "axs[0].set_ylim(top=100)\n",
    "axs[0].set_title(\"Hipertension VS No Show\")\n",
    "axs[0].set_xlabel(\"Hipertension\")\n",
    "axs[0].legend([\"Show Up\", \"No Show\"])\n",
    "\n",
    "#plot diabetes per appointment show up status\n",
    "diabetes_no_show.plot.bar(ax=axs[1], stacked=True)\n",
    "axs[1].set_xticklabels((\"False\", \"True\"),rotation=0)\n",
    "axs[1].set_ylim(top=100)\n",
    "axs[1].set_title(\"Diabetes VS No Show\")\n",
    "axs[1].set_xlabel(\"Diabetes\")\n",
    "axs[1].legend([\"Show Up\", \"No Show\"])\n",
    "\n",
    "#plot alcoholism per appointment show up status\n",
    "alcoholism_no_show.plot.bar(ax=axs[2],stacked=True);\n",
    "axs[2].set_xticklabels((\"False\", \"True\"),rotation=0)\n",
    "axs[2].set_ylim(top=100)\n",
    "axs[2].set_title(\"Alcoholism VS No Show\")\n",
    "axs[2].set_xlabel(\"Alcoholism\")\n",
    "axs[2].legend([\"Show Up\", \"No Show\"])\n",
    "\n",
    "#plot handicaped per appointment show up status\n",
    "handcap_no_show.plot.bar(ax=axs[3], stacked=True)\n",
    "axs[3].set_xticklabels((\"False\", \"True\"), rotation=0)\n",
    "axs[3].set_ylim(top=100)\n",
    "axs[3].set_title(\"Handcap VS No Show\")\n",
    "axs[3].set_xlabel(\"Handcap\")\n",
    "axs[3].legend([\"Show Up\", \"No Show\"])\n",
    "\n"
   ]
  },
  {
   "cell_type": "markdown",
   "metadata": {},
   "source": [
    "***Observation 6***: from above, all health statuses show no affect on the patient not showing to their appointments or not."
   ]
  },
  {
   "cell_type": "markdown",
   "metadata": {},
   "source": [
    "### Which neighborhood has the most no-show rate? are neighborhoods with more scholarship patients are most likely not to show?"
   ]
  },
  {
   "cell_type": "markdown",
   "metadata": {},
   "source": [
    "let us compare number of appointments per neighborhoods."
   ]
  },
  {
   "cell_type": "code",
   "execution_count": 59,
   "metadata": {},
   "outputs": [],
   "source": [
    "#group by neighbourhood per appointment show up status.\n",
    "neighbourhood_all = df_clean.groupby([\"neighbourhood\", \"no_show\"])[[\"no_show\"]].count()\n",
    "neighbourhood_all.columns = [\"no_show_count\"]\n",
    "neighbourhood_all.reset_index(inplace=True)\n",
    "#Calculate percentage appointments per neighborhood per appointment show up status\n",
    "neighbourhood_all[\"no_show_rate\"] = pd.DataFrame(neighbourhood_all.groupby([\"neighbourhood\",\"no_show\"])[\"no_show_count\"].sum() / neighbourhood_all.groupby([\"neighbourhood\"])[\"no_show_count\"].sum() * 100).reset_index()[[\"no_show_count\"]]\n",
    "neighbourhood_all = neighbourhood_all.groupby([\"neighbourhood\",\"no_show\"])[[\"no_show_count\", \"no_show_rate\"]].sum()\n",
    "neighbourhood_all = neighbourhood_all.unstack()\n",
    "#for neighbours has all patients showed up or all patients not showed to their appointment, substitute by 0\n",
    "neighbourhood_all = neighbourhood_all.fillna(0)"
   ]
  },
  {
   "cell_type": "code",
   "execution_count": 60,
   "metadata": {},
   "outputs": [
    {
     "data": {
      "text/plain": [
       "Text(0.5, 1.0, 'Appointment Per All Neigbourhoods')"
      ]
     },
     "execution_count": 60,
     "metadata": {},
     "output_type": "execute_result"
    },
    {
     "data": {
      "image/png": "[encoded data removed]",
      "text/plain": [
       "<Figure size 1440x360 with 1 Axes>"
      ]
     },
     "metadata": {
      "needs_background": "light"
     },
     "output_type": "display_data"
    }
   ],
   "source": [
    "#plot hypertenstion per appointment show up status\n",
    "axs = neighbourhood_all[\"no_show_count\"].sort_values(by=False).plot.bar(stacked=True, figsize=(20,5));\n",
    "axs.set_xlabel(\"neighbourhood\")\n",
    "axs.legend([\"Show Up\", \"No Show\"])\n",
    "axs.set_title(\"Appointment Per All Neigbourhoods\", fontsize=16)\n"
   ]
  },
  {
   "cell_type": "markdown",
   "metadata": {},
   "source": [
    "let us execlude neighbourhoods which has less than 1000 appointments. The reason behind this execluding is that they dont have enough appointments to study their no show rate. As well, those neighbourhoods cannot be classified based on their patients scholarships as we are going to see in the following steps."
   ]
  },
  {
   "cell_type": "code",
   "execution_count": 61,
   "metadata": {},
   "outputs": [],
   "source": [
    "#excluding all neigbourhoods which has less than 1000 appointments\n",
    "neighbourhood_above_1000_visits = neighbourhood_all[neighbourhood_all[\"no_show_count\"][False] + neighbourhood_all[\"no_show_count\"][True] > 1000]"
   ]
  },
  {
   "cell_type": "code",
   "execution_count": 62,
   "metadata": {},
   "outputs": [
    {
     "data": {
      "text/plain": [
       "Text(0.5, 1.0, 'Appointment Per Neigbourhoods (1000+ Appointments)')"
      ]
     },
     "execution_count": 62,
     "metadata": {},
     "output_type": "execute_result"
    },
    {
     "data": {
      "image/png": "[encoded data removed]",
      "text/plain": [
       "<Figure size 1440x360 with 1 Axes>"
      ]
     },
     "metadata": {
      "needs_background": "light"
     },
     "output_type": "display_data"
    }
   ],
   "source": [
    "# plot percentage of appointments per neighbourhood per appointment show up status.\n",
    "axs = neighbourhood_above_1000_visits[\"no_show_rate\"].sort_values(by=False).plot.bar(stacked=True, figsize=(20,5));\n",
    "axs.set_xlabel(\"neighbourhood\")\n",
    "axs.legend([\"Show Up\", \"No Show\"])\n",
    "axs.set_title(\"Appointment Per Neigbourhoods (1000+ Appointments)\", fontsize=16)"
   ]
  },
  {
   "cell_type": "markdown",
   "metadata": {},
   "source": [
    "***Observation 7***: all neigbourshood has no-show up appointments are around the 20%.\n",
    "\n",
    "Let us find out the affect of the scholarships on the neighbourhoods. to do this, i am going to classify the neighbourhoods into social classes based on the rate of the patients has medical scholarships."
   ]
  },
  {
   "cell_type": "code",
   "execution_count": 63,
   "metadata": {},
   "outputs": [
    {
     "data": {
      "text/html": [
       "<div>\n",
       "<style scoped>\n",
       "    .dataframe tbody tr th:only-of-type {\n",
       "        vertical-align: middle;\n",
       "    }\n",
       "\n",
       "    .dataframe tbody tr th {\n",
       "        vertical-align: top;\n",
       "    }\n",
       "\n",
       "    .dataframe thead th {\n",
       "        text-align: right;\n",
       "    }\n",
       "</style>\n",
       "<table border=\"1\" class=\"dataframe\">\n",
       "  <thead>\n",
       "    <tr style=\"text-align: right;\">\n",
       "      <th></th>\n",
       "      <th>scholarship_rate</th>\n",
       "    </tr>\n",
       "  </thead>\n",
       "  <tbody>\n",
       "    <tr>\n",
       "      <th>count</th>\n",
       "      <td>38.000000</td>\n",
       "    </tr>\n",
       "    <tr>\n",
       "      <th>mean</th>\n",
       "      <td>11.811411</td>\n",
       "    </tr>\n",
       "    <tr>\n",
       "      <th>std</th>\n",
       "      <td>6.104676</td>\n",
       "    </tr>\n",
       "    <tr>\n",
       "      <th>min</th>\n",
       "      <td>0.283725</td>\n",
       "    </tr>\n",
       "    <tr>\n",
       "      <th>25%</th>\n",
       "      <td>8.913911</td>\n",
       "    </tr>\n",
       "    <tr>\n",
       "      <th>50%</th>\n",
       "      <td>11.761120</td>\n",
       "    </tr>\n",
       "    <tr>\n",
       "      <th>75%</th>\n",
       "      <td>14.424395</td>\n",
       "    </tr>\n",
       "    <tr>\n",
       "      <th>max</th>\n",
       "      <td>28.075052</td>\n",
       "    </tr>\n",
       "  </tbody>\n",
       "</table>\n",
       "</div>"
      ],
      "text/plain": [
       "       scholarship_rate\n",
       "count         38.000000\n",
       "mean          11.811411\n",
       "std            6.104676\n",
       "min            0.283725\n",
       "25%            8.913911\n",
       "50%           11.761120\n",
       "75%           14.424395\n",
       "max           28.075052"
      ]
     },
     "execution_count": 63,
     "metadata": {},
     "output_type": "execute_result"
    }
   ],
   "source": [
    "#group by negibourhoods per scholarships, for only neigbourhoods has more than 1000 appointments. \n",
    "neighbourhood_scholarship = df_clean.query(f\"neighbourhood in {neighbourhood_above_1000_visits.index.tolist()}\").groupby([\"neighbourhood\", \"scholarship\"])[[\"scholarship\"]].count()\n",
    "neighbourhood_scholarship.columns = [\"scholarship_count\"]\n",
    "neighbourhood_scholarship.reset_index(inplace=True)\n",
    "#caclualte scholraship rate per neighbourhoods\n",
    "neighbourhood_scholarship[\"scholarship_rate\"] = pd.DataFrame(neighbourhood_scholarship.groupby([\"neighbourhood\",\"scholarship\"])[\"scholarship_count\"].sum() / neighbourhood_scholarship.groupby([\"neighbourhood\"])[\"scholarship_count\"].sum() * 100).reset_index()[[\"scholarship_count\"]]\n",
    "neighbourhood_scholarship = neighbourhood_scholarship.groupby([\"neighbourhood\", \"scholarship\"])[[\"scholarship_rate\"]].sum()\n",
    "neighbourhood_scholarship.reset_index(inplace=True)\n",
    "#find neigbourhood scholarships distribution\n",
    "neighbourhood_scholarship.query(\"scholarship == True\").describe()"
   ]
  },
  {
   "cell_type": "code",
   "execution_count": 64,
   "metadata": {},
   "outputs": [],
   "source": [
    "#function to classify negbourhood by the scholraship rate.\n",
    "def neighbourhood_social_classifier(row):\n",
    "    x = row[\"scholarship_rate\"]\n",
    "    if(row[\"scholarship\"] == False):\n",
    "        x = 100 - x\n",
    "       \n",
    "    if x >= 0.283725 and x < 8.913911:\n",
    "        return \"Class A\"\n",
    "    elif x >= 8.913911 and x < 11.761120:\n",
    "        return \"Class B\"\n",
    "    elif x >= 11.761120 and x < 14.424395:\n",
    "        return \"Class C\"\n",
    "    else:\n",
    "        return \"Class D\"\n",
    "    \n",
    "#apply classigication of neighbourhoods\n",
    "neighbourhood_scholarship[\"neighbourhood_class\"] = neighbourhood_scholarship.apply(neighbourhood_social_classifier,axis=1)\n",
    "neighbourhood_scholarship_class = neighbourhood_scholarship.loc[:,[\"neighbourhood\", \"neighbourhood_class\"]]\n",
    "#drop dublicate records\n",
    "neighbourhood_scholarship_class.drop_duplicates(inplace=True)\n"
   ]
  },
  {
   "cell_type": "markdown",
   "metadata": {},
   "source": [
    "In <i>neighbourhood_scholarship_class</i>, it contains neighbourhood scholarship dictionary table."
   ]
  },
  {
   "cell_type": "code",
   "execution_count": 65,
   "metadata": {},
   "outputs": [],
   "source": [
    "#function to get neigbourhood class\n",
    "def get_neighbourhood_class(value):\n",
    "    return neighbourhood_scholarship_class.query(f\"neighbourhood == '{value}'\")[\"neighbourhood_class\"].values[0]\n",
    "\n",
    "neighbourhood_above_1000_visits_classed = neighbourhood_above_1000_visits.reset_index()\n",
    "#Apply classification of neighbourhood\n",
    "neighbourhood_above_1000_visits_classed[\"neighbourhood_class\"] = neighbourhood_above_1000_visits_classed[\"neighbourhood\"].apply(get_neighbourhood_class)\n",
    "#group by neigbourhood class\n",
    "neighbourhood_above_1000_visits_classed.drop(columns=['neighbourhood'], inplace=True, level=0)\n",
    "neighbourhood_above_1000_visits_classed = neighbourhood_above_1000_visits_classed.groupby([\"neighbourhood_class\"]).sum().stack()\n",
    "neighbourhood_above_1000_visits_classed = neighbourhood_above_1000_visits_classed[[\"no_show_count\"]]\n",
    "#caclulate percentage of appointments per neigbourhood class\n",
    "neighbourhood_above_1000_visits_classed[\"no_show_rate\"] = pd.DataFrame(neighbourhood_above_1000_visits_classed[\"no_show_count\"] / neighbourhood_above_1000_visits_classed.groupby([\"neighbourhood_class\"])[\"no_show_count\"].sum() * 100)[[\"no_show_count\"]].values\n",
    "neighbourhood_above_1000_visits_classed = neighbourhood_above_1000_visits_classed.unstack()"
   ]
  },
  {
   "cell_type": "code",
   "execution_count": 66,
   "metadata": {},
   "outputs": [
    {
     "data": {
      "text/plain": [
       "<matplotlib.legend.Legend at 0x24ff591ea90>"
      ]
     },
     "execution_count": 66,
     "metadata": {},
     "output_type": "execute_result"
    },
    {
     "data": {
      "image/png": "[encoded data removed]",
      "text/plain": [
       "<Figure size 1440x504 with 2 Axes>"
      ]
     },
     "metadata": {
      "needs_background": "light"
     },
     "output_type": "display_data"
    }
   ],
   "source": [
    "fig, axs = plt.subplots(1,2,figsize=(20,7))\n",
    "fig.suptitle('Appointments per Neighbourhood Class', fontsize=16)\n",
    "\n",
    "#plot neighbourhood class per appointment show up status.\n",
    "neighbourhood_above_1000_visits_classed[\"no_show_count\"].plot.bar(ax=axs[0],stacked=True);\n",
    "axs[0].set_xlabel(\"Neighbourhood Class\")\n",
    "axs[0].legend([\"Show Up\", \"No Show\"])\n",
    "# plot percentage of appointments class per neighbourhood per appointment show up status.\n",
    "neighbourhood_above_1000_visits_classed[\"no_show_rate\"].plot.bar(ax=axs[1],stacked=True);\n",
    "axs[1].set_ylim(top=100)\n",
    "axs[1].set_xlabel(\"Neighbourhood Class\")\n",
    "axs[1].legend([\"Show Up\", \"No Show\"])"
   ]
  },
  {
   "cell_type": "markdown",
   "metadata": {},
   "source": [
    "***Observation 8***: Neighbourhoods of class A, has least patients with scholarships, has the most medical appointments. But appointments show-up rate are equals for neighbourhoods classes."
   ]
  },
  {
   "cell_type": "markdown",
   "metadata": {},
   "source": [
    "<a id='conclusions'></a>\n",
    "## Conclusions\n",
    "\n",
    "From the observations above, I can state the main cause of patients not showing up to their appointments is early scheduling. In observation 3, it shows that as early as the scheduling happened, the patients are most likely not going to show up to their appointment. That is reasonable cause for many reasons. The patients might forget, or gets busy with other things on the date of the appointment. Also, from observation 4, it shows how sms reminder make a small changes on the no-show rate.\n",
    "\n",
    "Appointment time was not registered in the data, and that could be a very useful infomration to know which part of the day the patients are most likely to skip their appointments. As well, I wanted to have longer interval of time than 3 months. Longer period of time will give us an indication on how seasons and holidays may affect the appointment show-up status."
   ]
  },
  {
   "cell_type": "code",
   "execution_count": 67,
   "metadata": {
    "scrolled": true
   },
   "outputs": [
    {
     "data": {
      "text/plain": [
       "0"
      ]
     },
     "execution_count": 67,
     "metadata": {},
     "output_type": "execute_result"
    }
   ],
   "source": [
    "from subprocess import call\n",
    "call(['python', '-m', 'nbconvert', 'Investigate_a_Dataset.ipynb'])"
   ]
  }
 ],
 "metadata": {
  "kernelspec": {
   "display_name": "Python 3",
   "language": "python",
   "name": "python3"
  },
  "language_info": {
   "codemirror_mode": {
    "name": "ipython",
    "version": 3
   },
   "file_extension": ".py",
   "mimetype": "text/x-python",
   "name": "python",
   "nbconvert_exporter": "python",
   "pygments_lexer": "ipython3",
   "version": "3.7.3"
  }
 },
 "nbformat": 4,
 "nbformat_minor": 2
}
