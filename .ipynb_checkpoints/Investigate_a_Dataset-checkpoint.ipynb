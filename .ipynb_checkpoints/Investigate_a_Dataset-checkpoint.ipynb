{
 "cells": [
  {
   "cell_type": "markdown",
   "metadata": {},
   "source": [
    "# Project: Investigate a Dataset (No-Show Appointments)\n",
    "\n",
    "## Table of Contents\n",
    "<ul>\n",
    "<li><a href=\"#intro\">Introduction</a></li>\n",
    "<li><a href=\"#wrangling\">Data Wrangling</a></li>\n",
    "<li><a href=\"#eda\">Exploratory Data Analysis</a></li>\n",
    "<li><a href=\"#conclusions\">Conclusions</a></li>\n",
    "</ul>"
   ]
  },
  {
   "cell_type": "markdown",
   "metadata": {},
   "source": [
    "<a id='intro'></a>\n",
    "## Introduction\n",
    "\n",
    "Over 110 thousands of medical appointments took place in brazil, some patients did not show up for their appointments. the dataset contains 14 features including the present of the patient or not on his appointment date. The features can be classifed into 4 groups, patient information (id, gender, age), appointment information (appointment id, appointment date, scheduled date, no show, sms received), health information (hypertension, diabetes, alcoholism, handcap) and social information (Neighbourhood, Scholarship). by invisitigating the dataset, i am trying to answer the following questions:\n",
    "<ul>\n",
    "    <li>Which patient, based on gender and age, are most likely not going to show up on his/her appointment?</li>\n",
    "    <li>Could it be the early scheduling for the appointment is a reason for the patient not showing? even with an SMS reminder?</li>\n",
    "    <li>During which times of the day are most likely the patinet will not show up? morning, afternoot, or evening?</li>\n",
    "    <li>During which years, months and weekdays are most likely the patinet will not show up?</li>\n",
    "    <li>Is there any relation between the patient health information and not showing up to the appointment?</li>\n",
    "    <li>Which neighbourhood has more scholarships rate? are patients with scholarships are more likely to show up to their appointments?</li>\n",
    "</ul>"
   ]
  },
  {
   "cell_type": "code",
   "execution_count": 1,
   "metadata": {},
   "outputs": [],
   "source": [
    "# importing packages and libraries and matplotlib for visualization\n",
    "import pandas as pd\n",
    "import numpy as np\n",
    "import matplotlib.pyplot as plt\n",
    "import seaborn as sns\n",
    "sns.set(style=\"whitegrid\")\n",
    "\n",
    "%matplotlib inline"
   ]
  },
  {
   "cell_type": "markdown",
   "metadata": {},
   "source": [
    "<a id='wrangling'></a>\n",
    "## Data Wrangling\n",
    "\n",
    "### General Properties"
   ]
  },
  {
   "cell_type": "code",
   "execution_count": null,
   "metadata": {},
   "outputs": [],
   "source": [
    "#importing CSV into data frame.\n",
    "df = pd.read_csv(\"no_show_appointment.csv\")\n",
    "rows, columns = df.shape\n",
    "print(\"The data frame has \"+ str(rows) +\" rows and \" + str(columns) + \" columns\")"
   ]
  },
  {
   "cell_type": "code",
   "execution_count": null,
   "metadata": {},
   "outputs": [],
   "source": [
    "#browse sample of data values and formats of each feature. \n",
    "df.head()"
   ]
  },
  {
   "cell_type": "code",
   "execution_count": null,
   "metadata": {},
   "outputs": [],
   "source": [
    "#browse data frame columns data types\n",
    "df.info()"
   ]
  },
  {
   "cell_type": "code",
   "execution_count": null,
   "metadata": {},
   "outputs": [],
   "source": [
    "#print out statistical details of the numeric data.\n",
    "df.describe()"
   ]
  },
  {
   "cell_type": "code",
   "execution_count": null,
   "metadata": {},
   "outputs": [],
   "source": [
    "#check number of not showing up patinets to an appointment on scale of 100\n",
    "no_show_percentage = pd.DataFrame(df.groupby([\"No-show\"])[\"PatientId\"].count())\n",
    "no_show_percentage[\"No-show\"] = no_show_percentage[\"PatientId\"] / sum(no_show_percentage[\"PatientId\"]) * 100\n",
    "no_show_percentage.drop(columns=\"PatientId\", inplace=True)\n",
    "no_show_percentage.plot.bar(figsize=(10,5))\n",
    "plt.ylim(top=100)\n",
    "plt.title(\"Patients Show-Up vs No-Show to Medical Appointments\",{'fontsize': 20},pad=20)\n",
    "plt.xlabel(\"Show Up Status\")\n",
    "plt.xticks(np.arange(2), ('Show-Up', 'No-Show'), rotation=0)\n",
    "plt.legend([\"% of Show Up Status\"])\n"
   ]
  },
  {
   "cell_type": "code",
   "execution_count": null,
   "metadata": {},
   "outputs": [],
   "source": [
    "#checking the age column distripution\n",
    "df[\"Age\"].describe()"
   ]
  },
  {
   "cell_type": "code",
   "execution_count": null,
   "metadata": {},
   "outputs": [],
   "source": [
    "#Check number of duplicated records in the data frame. \n",
    "print(\"Number of duplicate recrods: \" + str(sum(df.duplicated())))"
   ]
  },
  {
   "cell_type": "code",
   "execution_count": null,
   "metadata": {},
   "outputs": [],
   "source": [
    "#assure gender has only two unique values\n",
    "df[\"Gender\"].unique()"
   ]
  },
  {
   "cell_type": "code",
   "execution_count": null,
   "metadata": {},
   "outputs": [],
   "source": [
    "#check neighbourhood unique list\n",
    "df[\"Neighbourhood\"].unique()"
   ]
  },
  {
   "cell_type": "code",
   "execution_count": null,
   "metadata": {},
   "outputs": [],
   "source": [
    "#check number of wrong values of handcap that exceeds a value of 1\n",
    "print(\"Number of wrong handcap values: \" + str(df.query(\"Handcap > 1\")[\"Handcap\"].count()))"
   ]
  },
  {
   "cell_type": "code",
   "execution_count": null,
   "metadata": {},
   "outputs": [],
   "source": [
    "#check scheduled Day and Appointment Day description\n",
    "df[[\"ScheduledDay\",\"AppointmentDay\"]].describe()"
   ]
  },
  {
   "cell_type": "markdown",
   "metadata": {},
   "source": [
    "<b>From the results above, I have discovered the following:</b>\n",
    "<ul>\n",
    "    <li>Data meets the expectations as number of patients who were present at their appointments possess around 80% of the overall.</li>\n",
    "    <li>Data does not have any null values or duplicates.</li>\n",
    "    <li>It seems age of the patient was not collected and stored using one method in all clinics. as noticed from the graph there was some spikes in the graph. As well there are some negative age was recorded.</li>\n",
    "    <li>Handcap column has 199 records for a value more than 1, which is not valid for a true/false column </li>\n",
    "    <li>Data requires some transitions and data type converstions.</li>\n",
    "</ul>\n",
    "<b>So I will be able to answer my invistigation questions, I need to perform the following cleaning, transitions and convertions on the data:</b>\n",
    "<ol>\n",
    "    <li>Lower case column names and serperate words with <b>underscore `_`</b> instead of dash `-` or spaces ``, so that will make it easier for me to remember the column names.</li>\n",
    "    <li>Convert <b>ScheduledDay</b> and <b>AppointmentDay</b> data types from string to datetime.</li>\n",
    "    <li>Add new column as <b>\"schedule_days\"</b> that represents the different amount of days between appointment and schedule days, and drop <b>\"ScheduledDay\"</b> column</li>\n",
    "    <li>classify the appointment time occured in which <b>part of the day (Morning, Afternoon, Evening, Night)</b>, by extracting this information from the column <b>\"AppointmentDay\"</b> into a new added column <b>\"appointment_time_part\"</b></li>\n",
    "    <li>Extract from <b>\"AppointmentDay\"</b> 3 columns <b>year</b>, <b>month</b> and <b>week_day</b> </li>\n",
    "    <li>Take an action on the negative <b>Age</b>.</li>\n",
    "    <li>Take an action on the 199 rows which <b>Handcap</b> value is more than 1, by eaither dropping the rows or considering them as true</li>\n",
    "    <li>Convert the columns <b>(Scholarship, Hipertension,Diabetes, Alcoholism, Handcap and SMS_received)</b> from int to boolean.</li>\n",
    "    <li>Add new column <b>\"health_issues_count\"</b> to hold number of health issues the patients have in matter of <b>(hipertension, diabetes, alcoholism and handcap)</b></li>\n",
    "    <li>Transform the column <b>\"No-show\"</b> to the opposite meaning <b>\"present\"</b> to reduce the confusion of double negative value.</li>\n",
    "        <li>Drop <b>Patient ID</b> and <b>Appointment Id</b> columns, as it is not defined if the those are unique per clinic/neighbours or per the whole country</li>\n",
    "\n",
    "</ol>"
   ]
  },
  {
   "cell_type": "markdown",
   "metadata": {},
   "source": [
    "### Data Cleaning and Transforming\n",
    "\n",
    "<b> Step 1: Lower case columns names and seperate words with underscore </b>"
   ]
  },
  {
   "cell_type": "code",
   "execution_count": null,
   "metadata": {},
   "outputs": [],
   "source": [
    "#new column names for columns requires word seperation with underscore or spelling mistakes\n",
    "columnNames = {\"PatientId\":\"patient_id\", \"AppointmentID\":\"appointment_id\",\"ScheduledDay\":\"scheduled_day\",\n",
    "               \"AppointmentDay\":\"appointment_day\",\"hypertension\":\"hypertension\",\"No-show\":\"no_show\"}\n",
    "df = pd.read_csv(\"no_show_appointment.csv\")\n",
    "#rename columns\n",
    "df.rename(columns=columnNames, inplace=True)\n",
    "#lower case all columns names\n",
    "df.columns = df.columns.str.lower()\n",
    "df.dtypes"
   ]
  },
  {
   "cell_type": "markdown",
   "metadata": {},
   "source": [
    "<b>Step 2: Convert scheduled_day, appointment_day from string to DateTime</b>"
   ]
  },
  {
   "cell_type": "code",
   "execution_count": null,
   "metadata": {},
   "outputs": [],
   "source": [
    "#converting columns scheduled_day and appointment_day to datetime64\n",
    "df['scheduled_day'] = pd.to_datetime(df['scheduled_day'], format=\"%Y-%m-%d %H:%M:%S\")\n",
    "df['appointment_day'] = pd.to_datetime(df['appointment_day'], format=\"%Y-%m-%d %H:%M:%S\")\n",
    "#confirm new data types, as well check no null values was generated because of the transition.\n",
    "df.loc[:,[\"scheduled_day\",\"appointment_day\"]].info()"
   ]
  },
  {
   "cell_type": "code",
   "execution_count": null,
   "metadata": {},
   "outputs": [],
   "source": [
    "#look at the description of the date time columns\n",
    "df[[\"scheduled_day\",\"appointment_day\"]].describe()"
   ]
  },
  {
   "cell_type": "markdown",
   "metadata": {},
   "source": [
    "<b>Step 3: Classify appointment time to (Morning, Afternoon, Evening, Night) </b>"
   ]
  },
  {
   "cell_type": "code",
   "execution_count": null,
   "metadata": {},
   "outputs": [],
   "source": [
    "df['appointment_day'].dt.time.describe()"
   ]
  },
  {
   "cell_type": "markdown",
   "metadata": {},
   "source": [
    "From the result above, we cannot classify the appointment day as the time of the appointment is not registered. for that we are going to jump over this step."
   ]
  },
  {
   "cell_type": "markdown",
   "metadata": {},
   "source": [
    "<b>Step 3: Calculate number of days of scheduling before the appointment date</b>"
   ]
  },
  {
   "cell_type": "code",
   "execution_count": null,
   "metadata": {},
   "outputs": [],
   "source": [
    "#add new column schedule_days to have number of days different between appointment and \n",
    "#scheduled days as Int not as timedelta\n",
    "df[\"schedule_days\"] = (df[\"appointment_day\"] - df[\"scheduled_day\"]).dt.days\n",
    "\n",
    "df[\"schedule_days\"].describe()"
   ]
  },
  {
   "cell_type": "markdown",
   "metadata": {},
   "source": [
    "***Notice*** over more that 25% of scheduling happens after the appointment days. let us zoom in on this data and try to figure out the reasons behind it."
   ]
  },
  {
   "cell_type": "code",
   "execution_count": null,
   "metadata": {},
   "outputs": [],
   "source": [
    "#check ditribuption of the data for schedule_days\n",
    "ax1 = plt.subplot(1,2,1)\n",
    "df.query(\"schedule_days < 0\")[\"schedule_days\"].hist(bins=30,figsize=(13,4))\n",
    "ax1.set_title(\"Days of Scheduling Before Appointment (All Negative)\")\n",
    "ax1.set_xlabel(\"Delta Days (Appointment - Schedule)\")\n",
    "ax1.legend([\"Number of Appointments\"])\n",
    "ax2 = plt.subplot(1,2,2)\n",
    "df.query(\"schedule_days < -1\")[\"schedule_days\"].hist(bins=30, figsize=(13,4))\n",
    "ax2.set_title(\"Days of Scheduling Before Appointment (Below -1)\")\n",
    "ax2.set_xlabel(\"Delta Days (Appointment - Schedule)\")\n",
    "ax2.legend([\"Number of Appointments\"])\n",
    "plt.tight_layout()\n"
   ]
  },
  {
   "cell_type": "markdown",
   "metadata": {},
   "source": [
    "around 37000 records has been scheduled one day more than the appointment day. let us look at the data and confirm this."
   ]
  },
  {
   "cell_type": "code",
   "execution_count": null,
   "metadata": {},
   "outputs": [],
   "source": [
    "df.query(\"schedule_days  == -1\")[[\"schedule_days\",\"scheduled_day\", \"appointment_day\"]].head(10)\n"
   ]
  },
  {
   "cell_type": "markdown",
   "metadata": {},
   "source": [
    "based on the data above, we can see that the scheduling is happenning on the same day of the appointment but because of the appointment day has no time registered, the schedule day is becoming after the appointment day. so let us calculate schedul_days based on the date only, without including the time. "
   ]
  },
  {
   "cell_type": "code",
   "execution_count": null,
   "metadata": {},
   "outputs": [],
   "source": [
    "df[\"schedule_days\"] = (df[\"appointment_day\"].dt.date - df[\"scheduled_day\"].dt.date).dt.days\n",
    "df.query(\"schedule_days < 0\")[\"schedule_days\"].hist(bins=30,figsize=(10,5))\n",
    "plt.title(\"Days of Scheduling Before Appointment (All Negative)\")\n",
    "plt.xlabel(\"Delta Days (Appointment - Schedule)\")\n",
    "plt.legend([\"Number of Appointments\"])"
   ]
  },
  {
   "cell_type": "markdown",
   "metadata": {},
   "source": [
    "Now, are are having only 5 appoitments was scheduled after the appointment date. and for those we can execlude them from our study."
   ]
  },
  {
   "cell_type": "code",
   "execution_count": null,
   "metadata": {},
   "outputs": [],
   "source": [
    "df = df.query(\"schedule_days >= 0\")\n",
    "df[\"schedule_days\"].describe()"
   ]
  },
  {
   "cell_type": "markdown",
   "metadata": {},
   "source": [
    "based on the desciption of schedule_days column, we can noticed that the range of the data is wide, and 25% of the data is 0.\n",
    "let us group the schedule_days into 4 groups as the following:\n",
    "<ul>\n",
    "    <li>0 Days</li>\n",
    "    <li>1 to 4 Days</li>\n",
    "    <li>5 to 15 Days</li>\n",
    "    <li>Above 16 Days</li>\n",
    "</ul>"
   ]
  },
  {
   "cell_type": "code",
   "execution_count": null,
   "metadata": {},
   "outputs": [],
   "source": [
    "def schedule_days_classifier(schedule_days):\n",
    "    if schedule_days == 0:\n",
    "        return \"0 Days\"\n",
    "    elif schedule_days >= 1 and schedule_days < 5:\n",
    "        return \"1-4 Days\"\n",
    "    elif schedule_days >= 5 and schedule_days < 16:\n",
    "        return \"5-15 Days\"\n",
    "    else:\n",
    "        return \"16+ Days\"\n",
    "    \n",
    "df[\"schedule_days\"] = df[\"schedule_days\"].apply(schedule_days_classifier)"
   ]
  },
  {
   "cell_type": "code",
   "execution_count": null,
   "metadata": {},
   "outputs": [],
   "source": [
    "schedule_days_order = [\"0 Days\", \"1-4 Days\", \"5-15 Days\", \"16+ Days\"]\n",
    "df.groupby([\"schedule_days\"]).count()[[\"no_show\"]].loc[schedule_days_order].plot.bar()"
   ]
  },
  {
   "cell_type": "markdown",
   "metadata": {},
   "source": [
    "let us now drop the column schedule_day."
   ]
  },
  {
   "cell_type": "code",
   "execution_count": null,
   "metadata": {},
   "outputs": [],
   "source": [
    "#drop scheduled_day column\n",
    "df.drop(columns=[\"scheduled_day\"], inplace=True)\n",
    "df.columns"
   ]
  },
  {
   "cell_type": "markdown",
   "metadata": {},
   "source": [
    "<b>Step 5: Extract from Appointment Day 3 columns (year, month, week_day)</b>"
   ]
  },
  {
   "cell_type": "code",
   "execution_count": null,
   "metadata": {},
   "outputs": [],
   "source": [
    "print(\"Appointments occured in years of: \" + np.array2string(df['appointment_day'].dt.year.unique()))\n",
    "print(\"Appointments occured in months of: \" + np.array2string(df['appointment_day'].dt.month.unique()))"
   ]
  },
  {
   "cell_type": "markdown",
   "metadata": {},
   "source": [
    "From above, we preceive that all the data happend in 2016 for April, May and June months only. extracting the year and month information will not be usefull for us. \n",
    "Now let us look at the week days."
   ]
  },
  {
   "cell_type": "code",
   "execution_count": null,
   "metadata": {},
   "outputs": [],
   "source": [
    "week_day_dictionary = [\"Monday\", \"Tuesday\", \"Wednesday\", \"Thursday\", \"Friday\", \"Saturday\", \"Sunday\"]\n",
    "def week_day_classifier(day):\n",
    "    return week_day_dictionary[day];\n",
    "\n",
    "df[\"week_day\"] = df[\"appointment_day\"].dt.weekday.apply(week_day_classifier)\n",
    "\n",
    "df[[ \"appointment_id\", \"week_day\"]].head()\n"
   ]
  },
  {
   "cell_type": "code",
   "execution_count": null,
   "metadata": {},
   "outputs": [],
   "source": [
    "df.drop(columns=[\"appointment_day\"], inplace=True)\n",
    "df.columns"
   ]
  },
  {
   "cell_type": "markdown",
   "metadata": {},
   "source": [
    "<b> Step 6: Clean and Transform Age column</b>\n",
    "\n",
    "So I can proceed in cleaning the data, first i have to ask the important questions. what does it mean for a patient, who is under 18 and took an appointment and then not showing up? is the patient the one who called for the appointment or the parents? is the reason of not showing up is related for the patient situation or their parents?\n",
    "\n",
    "before we answer this question, let us invistigate the following:\n",
    "<ul>\n",
    "<li> How many records that has negative age </li>\n",
    "<li>let us group the patients for the following groups (Infants => under 2, Kids => 3-10, Teenagers => 11-19, Adults =>20-40, Matures => 40-65, Elders => above 65)\n",
    "    </ul>"
   ]
  },
  {
   "cell_type": "code",
   "execution_count": null,
   "metadata": {},
   "outputs": [],
   "source": [
    "df.query(\"age < 0\")[\"patient_id\"].astype(str).str[:-2]"
   ]
  },
  {
   "cell_type": "markdown",
   "metadata": {},
   "source": [
    "we found one record only which Age is under 0, let us check if that patient has other records in the dataframe that help us know the patient real age"
   ]
  },
  {
   "cell_type": "code",
   "execution_count": null,
   "metadata": {},
   "outputs": [],
   "source": [
    "df.query(\"patient_id == '465943158731293'\")[[\"age\"]]"
   ]
  },
  {
   "cell_type": "markdown",
   "metadata": {},
   "source": [
    "we could not find any other records for that patient, so we are going to drop it out from our data frame"
   ]
  },
  {
   "cell_type": "code",
   "execution_count": null,
   "metadata": {},
   "outputs": [],
   "source": [
    "df = df.query(\"age >= 0\")"
   ]
  },
  {
   "cell_type": "code",
   "execution_count": null,
   "metadata": {},
   "outputs": [],
   "source": [
    "df[\"age\"].describe()"
   ]
  },
  {
   "cell_type": "markdown",
   "metadata": {},
   "source": [
    "I am going to classigy the age into 4 equal groups:\n",
    "<ul>\n",
    "    <li>[0-18) => Kids</li>\n",
    "<li>[18-37) => Adults</li>\n",
    "<li>[37-55) => Matures</li>\n",
    "<li>[55-115) => Elders</li>\n",
    "    </ul>"
   ]
  },
  {
   "cell_type": "code",
   "execution_count": null,
   "metadata": {},
   "outputs": [],
   "source": [
    "def age_classifier(age):\n",
    "    if age >= 0 and age <18:\n",
    "        return \"Kids\"\n",
    "    elif age >= 18 and age < 37:\n",
    "        return \"Adults\"\n",
    "    elif age >= 37 and age < 55:\n",
    "        return \"Matures\"\n",
    "    else:\n",
    "        return \"Elders\"\n",
    "    \n",
    "df[\"age_group\"] = df[\"age\"].apply(age_classifier)\n",
    "\n",
    "df.drop(columns=[\"age\"], inplace=True)\n",
    "df[[\"patient_id\", \"gender\", \"age_group\"]].head()"
   ]
  },
  {
   "cell_type": "markdown",
   "metadata": {},
   "source": [
    "<b>Step 7: Handling handcap invalid records</b> \n",
    "\n",
    "As mentioned before, there are 199 records that contains incorrect values that cannot be represented in true or false.\n",
    "I will invistigate those rows deeply before deciding to drop them or consider them as true."
   ]
  },
  {
   "cell_type": "code",
   "execution_count": null,
   "metadata": {},
   "outputs": [],
   "source": [
    "df.query(\"handcap > 1\")[[\"handcap\"]].describe()"
   ]
  },
  {
   "cell_type": "markdown",
   "metadata": {},
   "source": [
    "based on the description above, data for other features seems reasonable, and for that i choose to consider any value above or equal 1 to be True."
   ]
  },
  {
   "cell_type": "code",
   "execution_count": null,
   "metadata": {},
   "outputs": [],
   "source": [
    "#make any value above 1 to be 1\n",
    "df.loc[df.handcap >1 , 'handcap'] =1\n",
    "df[[\"handcap\"]].describe()"
   ]
  },
  {
   "cell_type": "markdown",
   "metadata": {},
   "source": [
    "<b>Step 9: Convert Scholarship, hypertension,diabetes,alcoholism,handcap and sms_received columns to boolean</b>"
   ]
  },
  {
   "cell_type": "code",
   "execution_count": null,
   "metadata": {},
   "outputs": [],
   "source": [
    "df[\"scholarship\"] = df[\"scholarship\"].astype(bool)\n",
    "df[\"hipertension\"] = df[\"hipertension\"].astype(bool)\n",
    "df[\"diabetes\"] = df[\"diabetes\"].astype(bool)\n",
    "df[\"alcoholism\"] = df[\"alcoholism\"].astype(bool)\n",
    "df[\"handcap\"] = df[\"handcap\"].astype(bool)\n",
    "df[\"sms_received\"] = df[\"sms_received\"].astype(bool)\n",
    "df[[\"scholarship\",\"hipertension\", \"diabetes\", \"alcoholism\", \"handcap\", \"sms_received\"]].dtypes"
   ]
  },
  {
   "cell_type": "code",
   "execution_count": null,
   "metadata": {},
   "outputs": [],
   "source": [
    "df[[\"scholarship\",\"hipertension\", \"diabetes\", \"alcoholism\", \"handcap\", \"sms_received\"]].describe()"
   ]
  },
  {
   "cell_type": "markdown",
   "metadata": {},
   "source": [
    "<b>Step 10: Convert the column no_show to present for easy understanding</b>"
   ]
  },
  {
   "cell_type": "code",
   "execution_count": null,
   "metadata": {
    "scrolled": true
   },
   "outputs": [],
   "source": [
    "def noshow_to_boolean(status):\n",
    "    if status == 'No':\n",
    "        return False\n",
    "    else:\n",
    "        return True\n",
    "    \n",
    "df[\"no_show\"] = df[\"no_show\"].apply(noshow_to_boolean)\n",
    "df[[\"appointment_id\", \"no_show\"]].head()"
   ]
  },
  {
   "cell_type": "markdown",
   "metadata": {},
   "source": [
    "<b>Step 11: drop patient_id and appointment_id from data frame</b>"
   ]
  },
  {
   "cell_type": "code",
   "execution_count": null,
   "metadata": {},
   "outputs": [],
   "source": [
    "#converting patient_id and appointment_id to string\n",
    "df.drop(columns=['patient_id', 'appointment_id'], inplace=True)\n",
    "df.columns"
   ]
  },
  {
   "cell_type": "markdown",
   "metadata": {},
   "source": [
    "Now my data is cleaned up, i am going to reorder the columns and save it into \"no_show_cleaned.csv\""
   ]
  },
  {
   "cell_type": "code",
   "execution_count": null,
   "metadata": {},
   "outputs": [],
   "source": [
    "df = df[['gender', 'age_group', 'neighbourhood','scholarship','hipertension', 'diabetes',\n",
    "       'alcoholism', 'handcap', 'week_day', \n",
    "         'schedule_days', 'sms_received','no_show']]\n",
    "df.to_csv('no_show_cleaned.csv', index=False)"
   ]
  },
  {
   "cell_type": "markdown",
   "metadata": {},
   "source": [
    "<a id='eda'></a>\n",
    "## Exploratory Data Analysis\n",
    "\n"
   ]
  },
  {
   "cell_type": "code",
   "execution_count": 2,
   "metadata": {},
   "outputs": [],
   "source": [
    "df_clean = pd.read_csv('no_show_cleaned.csv')"
   ]
  },
  {
   "cell_type": "markdown",
   "metadata": {},
   "source": [
    "### Which patient, based on gender and age, are most likely not going to show up on his/her appointment?"
   ]
  },
  {
   "cell_type": "markdown",
   "metadata": {},
   "source": [
    "Let us compare Number of Males to Number of Females and then Number of show-up and no-show-up for each gender"
   ]
  },
  {
   "cell_type": "code",
   "execution_count": 3,
   "metadata": {},
   "outputs": [],
   "source": [
    "gender_all = df_clean.groupby([\"gender\"])[[\"gender\"]].count()\n",
    "gender_all.columns = [\"Gender Rate\"]\n",
    "gender_all[\"Gender Rate\"] = gender_all[\"Gender Rate\"] / sum(gender_all[\"Gender Rate\"]) * 100\n",
    "gender_all.reset_index(inplace=True)"
   ]
  },
  {
   "cell_type": "code",
   "execution_count": 4,
   "metadata": {},
   "outputs": [],
   "source": [
    "gender_by_no_show = df_clean.groupby([\"gender\", \"no_show\"])[[\"gender\"]].count()\n",
    "gender_by_no_show.columns = [\"no_show_count\"]\n",
    "gender_by_no_show.reset_index(inplace=True)\n",
    "gender_by_no_show.columns = [\"Gender\", \"No Show Status\", \"No Show Count\"]\n",
    "gender_by_no_show =  pd.DataFrame(gender_by_no_show.groupby([\"Gender\",\"No Show Status\"])[\"No Show Count\"].sum() / gender_by_no_show.groupby([\"Gender\"])[\"No Show Count\"].sum() * 100)\n",
    "gender_by_no_show = gender_by_no_show.unstack()"
   ]
  },
  {
   "cell_type": "code",
   "execution_count": 5,
   "metadata": {},
   "outputs": [
    {
     "data": {
      "text/plain": [
       "<matplotlib.legend.Legend at 0x1f7df830048>"
      ]
     },
     "execution_count": 5,
     "metadata": {},
     "output_type": "execute_result"
    },
    {
     "data": {
      "image/png": "[encoded data removed]",
      "text/plain": [
       "<Figure size 1080x360 with 2 Axes>"
      ]
     },
     "metadata": {
      "needs_background": "light"
     },
     "output_type": "display_data"
    }
   ],
   "source": [
    "fig, axs = plt.subplots(1,2,figsize=(15,5))\n",
    "\n",
    "gender_all.plot.bar(ax=axs[0])\n",
    "axs[0].set_xticklabels((\"Female\",\"Male\"), rotation=0)\n",
    "axs[0].set_ylim(top=100)\n",
    "axs[0].set_title(\"Male Vs Female Appointments\")\n",
    "axs[0].set_xlabel(\"Gender\")\n",
    "axs[0].legend([\"% of Appointments per Gender\"])\n",
    "\n",
    "gender_by_no_show.plot.bar(ax=axs[1], stacked=True)\n",
    "axs[1].set_xticklabels((\"Female\",\"Male\"), rotation=0)\n",
    "axs[1].set_ylim(top=100)\n",
    "axs[1].set_title(\"% of Show Up VS No Show per Gender\")\n",
    "axs[1].set_xlabel(\"Gender\")\n",
    "axs[1].legend([\"Show Up\", \"No Show\"])"
   ]
  },
  {
   "cell_type": "markdown",
   "metadata": {},
   "source": [
    "From above, we find out that the number of medical appointments for female patients are almost double of the amount of the male patients appointments. But both genders are not showing to their appointment with equale rate.\n",
    "\n",
    "Now, let us invistigate the age groups"
   ]
  },
  {
   "cell_type": "code",
   "execution_count": null,
   "metadata": {},
   "outputs": [],
   "source": [
    "age_group_all = df_clean.groupby([\"age_group\"])[[\"age_group\"]].count()\n",
    "age_group_all.columns = [\"Age Group Rate\"]\n",
    "age_group_all[\"Age Group Rate\"] = age_group_all[\"Age Group Rate\"] / sum(age_group_all[\"Age Group Rate\"]) * 100\n",
    "age_group_all.reset_index(inplace=True)"
   ]
  },
  {
   "cell_type": "code",
   "execution_count": null,
   "metadata": {},
   "outputs": [],
   "source": [
    "age_group_no_show = df_clean.groupby([\"age_group\", \"no_show\"])[[\"age_group\"]].count()\n",
    "age_group_no_show.columns = [\"age_group_count\"]\n",
    "age_group_no_show.reset_index(inplace=True)\n",
    "age_group_no_show.columns = [\"Age Group\", \"No Show Status\", \"No Show Count\"]\n",
    "age_group_no_show = pd.DataFrame(age_group_no_show.groupby([\"Age Group\",\"No Show Status\"])[\"No Show Count\"].sum() / age_group_no_show.groupby([\"Age Group\"])[\"No Show Count\"].sum() * 100)\n",
    "age_group_no_show = age_group_no_show.unstack()"
   ]
  },
  {
   "cell_type": "code",
   "execution_count": null,
   "metadata": {},
   "outputs": [],
   "source": [
    "fig, axs = plt.subplots(1,2,figsize=(15,5))\n",
    "\n",
    "age_group_all.plot.bar(ax=axs[0])\n",
    "axs[0].set_xticklabels((\"Under 18\",\"19 to 37\", \"38 to 55\", \"Above 55\"), rotation=0)\n",
    "axs[0].set_ylim(top=30)\n",
    "axs[0].set_title(\"% of Appointments per Age Group\")\n",
    "axs[0].set_xlabel(\"Age Group\")\n",
    "axs[0].legend([\"% of Appointments per Age Group\"])\n",
    "\n",
    "age_group_no_show.plot.bar(ax=axs[1], stacked=True)\n",
    "axs[1].set_xticklabels((\"Under 18\",\"19 to 37\", \"38 to 55\", \"Above 55\"), rotation=0)\n",
    "axs[1].set_ylim(top=100)\n",
    "axs[1].set_title(\"% of Show Up VS No Show per Age Group\")\n",
    "axs[1].set_xlabel(\"Age Group\")\n",
    "axs[1].legend([\"Show Up\", \"No Show\"])"
   ]
  },
  {
   "cell_type": "markdown",
   "metadata": {},
   "source": [
    "from above chart, we can discover that all age groups are most likely not showing to their appointment in an equale rate."
   ]
  },
  {
   "cell_type": "markdown",
   "metadata": {},
   "source": [
    "### Could it be the early scheduling for the appointment is a reason for the patient not showing? even with an SMS reminder?"
   ]
  },
  {
   "cell_type": "code",
   "execution_count": null,
   "metadata": {},
   "outputs": [],
   "source": [
    "schedule_days_all = df_clean.groupby([\"schedule_days\"])[[\"schedule_days\"]].count().loc[schedule_days_order]\n",
    "schedule_days_all.columns = [\"Schedule Days Rate\"]\n",
    "schedule_days_all[\"Schedule Days Rate\"] = schedule_days_all[\"Schedule Days Rate\"] / sum(schedule_days_all[\"Schedule Days Rate\"]) * 100\n",
    "schedule_days_all.reset_index(inplace=True)"
   ]
  },
  {
   "cell_type": "code",
   "execution_count": null,
   "metadata": {},
   "outputs": [],
   "source": [
    "schedule_days_no_show = df_clean.groupby([\"schedule_days\", \"no_show\"])[[\"schedule_days\"]].count()\n",
    "schedule_days_no_show.columns = [\"schedule_days_count\"]\n",
    "schedule_days_no_show.reset_index(inplace=True)\n",
    "schedule_days_no_show.columns = [\"Schedule Days\", \"No Show Status\", \"No Show Count\"]\n",
    "schedule_days_no_show = pd.DataFrame(schedule_days_no_show.groupby([\"Schedule Days\",\"No Show Status\"])[\"No Show Count\"].sum() / schedule_days_no_show.groupby([\"Schedule Days\"])[\"No Show Count\"].sum() * 100)\n",
    "schedule_days_no_show = schedule_days_no_show.unstack().loc[schedule_days_order]"
   ]
  },
  {
   "cell_type": "code",
   "execution_count": null,
   "metadata": {},
   "outputs": [],
   "source": [
    "fig, axs = plt.subplots(1,2,figsize=(15,5))\n",
    "\n",
    "schedule_days_all.plot.bar(ax=axs[0])\n",
    "axs[0].set_xticklabels(schedule_days_order, rotation=0)\n",
    "axs[0].set_ylim(top=30)\n",
    "axs[0].set_title(\"% of Appointments per Schedule Days\")\n",
    "axs[0].set_xlabel(\"Schedule Days\")\n",
    "axs[0].legend([\"% of Appointments per Schedule Days\"])\n",
    "\n",
    "schedule_days_no_show.plot.bar(ax=axs[1], stacked=True)\n",
    "axs[1].set_xticklabels(schedule_days_order, rotation=0)\n",
    "axs[1].set_ylim(top=100)\n",
    "axs[1].set_title(\"% of Show Up VS No Show per Schedule Days\")\n",
    "axs[1].set_xlabel(\"Schedule Days\")\n",
    "axs[1].legend([\"Show Up\", \"No Show\"])"
   ]
  },
  {
   "cell_type": "code",
   "execution_count": null,
   "metadata": {},
   "outputs": [],
   "source": [
    "sms_received_all = df_clean.groupby([\"sms_received\"])[[\"sms_received\"]].count()\n",
    "sms_received_all.columns = [\"SMS Received Rate\"]\n",
    "sms_received_all[\"SMS Received Rate\"] = sms_received_all[\"SMS Received Rate\"] / sum(sms_received_all[\"SMS Received Rate\"]) * 100\n",
    "sms_received_all.reset_index(inplace=True)"
   ]
  },
  {
   "cell_type": "code",
   "execution_count": null,
   "metadata": {},
   "outputs": [],
   "source": [
    "sms_received_no_show = df_clean.groupby([\"sms_received\", \"no_show\"])[[\"sms_received\"]].count()\n",
    "sms_received_no_show.columns = [\"sms_received_count\"]\n",
    "sms_received_no_show.reset_index(inplace=True)\n",
    "sms_received_no_show.columns = [\"SMS Received\", \"No Show Status\", \"No Show Count\"]\n",
    "sms_received_no_show = pd.DataFrame(sms_received_no_show.groupby([\"SMS Received\",\"No Show Status\"])[\"No Show Count\"].sum() / sms_received_no_show.groupby([\"SMS Received\"])[\"No Show Count\"].sum() * 100)\n",
    "sms_received_no_show = sms_received_no_show.unstack()"
   ]
  },
  {
   "cell_type": "code",
   "execution_count": null,
   "metadata": {},
   "outputs": [],
   "source": [
    "fig, axs = plt.subplots(1,2,figsize=(15,5))\n",
    "\n",
    "sms_received_all.plot.bar(ax=axs[0])\n",
    "axs[0].set_xticklabels((\"Received SMS\", \"Not Received SMS\"), rotation=0)\n",
    "axs[0].set_ylim(top=100)\n",
    "axs[0].set_title(\"% of Appointments per Schedule Days\")\n",
    "axs[0].set_xlabel(\"Schedule Days\")\n",
    "axs[0].legend([\"% of Appointments per Schedule Days\"])\n",
    "\n",
    "sms_received_no_show.plot.bar(ax=axs[1], stacked=True)\n",
    "axs[1].set_xticklabels((\"Received SMS\", \"Not Received SMS\"), rotation=0)\n",
    "axs[1].set_ylim(top=100)\n",
    "axs[1].set_title(\"% of Show Up VS No Show per Schedule Days\")\n",
    "axs[1].set_xlabel(\"Schedule Days\")\n",
    "axs[1].legend([\"Show Up\", \"No Show\"])"
   ]
  },
  {
   "cell_type": "code",
   "execution_count": null,
   "metadata": {},
   "outputs": [],
   "source": [
    "schedule_days_sms_showed_up = df_clean.query(\"no_show == False\").groupby([\"schedule_days\", \"sms_received\", \"no_show\"])[[\"schedule_days\"]].count()\n",
    "schedule_days_sms_showed_up.columns = [\"schedule_days_count\"]\n",
    "schedule_days_sms_showed_up.reset_index(inplace=True)\n",
    "schedule_days_sms_showed_up.columns = [\"Schedule Days\",\"SMS Recieved\", \"No Show Status\", \"No Show Count\"]\n",
    "schedule_days_sms_showed_up = pd.DataFrame(schedule_days_sms_showed_up.groupby([\"Schedule Days\",\"SMS Recieved\",\"No Show Status\"])[\"No Show Count\"].sum() / schedule_days_sms_showed_up.groupby([\"Schedule Days\"])[\"No Show Count\"].sum() * 100)\n",
    "schedule_days_sms_showed_up = schedule_days_sms_showed_up.unstack().unstack().loc[schedule_days_order]"
   ]
  },
  {
   "cell_type": "code",
   "execution_count": null,
   "metadata": {},
   "outputs": [],
   "source": [
    "schedule_days_sms_no_show = df_clean.query(\"no_show == True\").groupby([\"schedule_days\", \"sms_received\", \"no_show\"])[[\"schedule_days\"]].count()\n",
    "schedule_days_sms_no_show.columns = [\"schedule_days_count\"]\n",
    "schedule_days_sms_no_show.reset_index(inplace=True)\n",
    "schedule_days_sms_no_show.columns = [\"Schedule Days\",\"SMS Recieved\", \"No Show Status\", \"No Show Count\"]\n",
    "schedule_days_sms_no_show = pd.DataFrame(schedule_days_sms_no_show.groupby([\"Schedule Days\",\"SMS Recieved\",\"No Show Status\"])[\"No Show Count\"].sum() / schedule_days_sms_no_show.groupby([\"Schedule Days\"])[\"No Show Count\"].sum() * 100)\n",
    "schedule_days_sms_no_show = schedule_days_sms_no_show.unstack().unstack().loc[schedule_days_order]"
   ]
  },
  {
   "cell_type": "code",
   "execution_count": null,
   "metadata": {},
   "outputs": [],
   "source": [
    "fig, axs = plt.subplots(1,2,figsize=(15,5))\n",
    "\n",
    "schedule_days_sms_showed_up.plot.bar(ax=axs[0],stacked=True);\n",
    "axs[0].set_xticklabels(schedule_days_order, rotation=0)\n",
    "axs[0].set_ylim(top=100)\n",
    "axs[0].set_title(\"% of Showed Up Appointments per Schedule Days per\")\n",
    "axs[0].set_xlabel(\"Schedule Days (Show Up Only)\")\n",
    "axs[0].legend([\"SMS Recieved\", \"SMS Not Recieved\"])\n",
    "\n",
    "schedule_days_sms_no_show.plot.bar(ax=axs[1], stacked=True)\n",
    "axs[1].set_xticklabels(schedule_days_order, rotation=0)\n",
    "axs[1].set_ylim(top=100)\n",
    "axs[1].set_title(\"% of No Showed Up Appointments per Schedule Days\")\n",
    "axs[1].set_xlabel(\"Schedule Days (No Show Up Only)\")\n",
    "axs[1].legend([\"SMS Recieved\", \"SMS Not Recieved\"])"
   ]
  },
  {
   "cell_type": "markdown",
   "metadata": {},
   "source": [
    "### During which times of the day are most likely the patinet will not show up? morning, afternoot, or evening?"
   ]
  },
  {
   "cell_type": "markdown",
   "metadata": {},
   "source": [
    "We are unable to find this information as the appointment time was not recorded and stored. "
   ]
  },
  {
   "cell_type": "markdown",
   "metadata": {},
   "source": [
    "### During which years, months and weekdays are most likely the patinet will not show up?"
   ]
  },
  {
   "cell_type": "code",
   "execution_count": null,
   "metadata": {},
   "outputs": [],
   "source": [
    "weekday_all = df_clean.groupby([\"week_day\"])[[\"week_day\"]].count()\n",
    "weekday_all.columns = [\"Week Day Rate\"]\n",
    "weekday_all[\"Week Day Rate\"] = weekday_all[\"Week Day Rate\"] / sum(weekday_all[\"Week Day Rate\"]) * 100\n",
    "weekday_all = weekday_all.reindex(week_day_dictionary)"
   ]
  },
  {
   "cell_type": "code",
   "execution_count": null,
   "metadata": {},
   "outputs": [],
   "source": [
    "week_day_no_show = df_clean.groupby([\"week_day\", \"no_show\"])[[\"week_day\"]].count()\n",
    "week_day_no_show.columns = [\"week_day_count\"]\n",
    "week_day_no_show.reset_index(inplace=True)\n",
    "week_day_no_show.columns = [\"Week Day\", \"No Show Status\", \"No Show Count\"]\n",
    "week_day_no_show = pd.DataFrame(week_day_no_show.groupby([\"Week Day\",\"No Show Status\"])[\"No Show Count\"].sum() / week_day_no_show.groupby([\"Week Day\"])[\"No Show Count\"].sum() * 100)\n",
    "week_day_no_show = week_day_no_show.unstack()\n",
    "week_day_no_show = week_day_no_show.reindex(week_day_dictionary)"
   ]
  },
  {
   "cell_type": "code",
   "execution_count": null,
   "metadata": {},
   "outputs": [],
   "source": [
    "fig, axs = plt.subplots(1,2,figsize=(15,5))\n",
    "\n",
    "weekday_all.plot.bar(ax=axs[0],stacked=True);\n",
    "axs[0].set_xticklabels(week_day_dictionary, rotation=0)\n",
    "axs[0].set_ylim(top=30)\n",
    "axs[0].set_title(\"% of Showed Up Appointments per Schedule Days per\")\n",
    "axs[0].set_xlabel(\"Schedule Days (Show Up Only)\")\n",
    "axs[0].legend([\"SMS Recieved\", \"SMS Not Recieved\"])\n",
    "\n",
    "week_day_no_show.plot.bar(ax=axs[1], stacked=True)\n",
    "axs[1].set_xticklabels(week_day_dictionary, rotation=0)\n",
    "axs[1].set_ylim(top=100)\n",
    "axs[1].set_title(\"% of No Showed Up Appointments per Schedule Days\")\n",
    "axs[1].set_xlabel(\"Schedule Days (No Show Up Only)\")\n",
    "axs[1].legend([\"SMS Recieved\", \"SMS Not Recieved\"])"
   ]
  },
  {
   "cell_type": "markdown",
   "metadata": {},
   "source": [
    "### Is there any relation between the patient health information and not showing up to the appointment?"
   ]
  },
  {
   "cell_type": "code",
   "execution_count": null,
   "metadata": {},
   "outputs": [],
   "source": [
    "hipertension_no_show = df_clean.groupby([\"hipertension\", \"no_show\"])[[\"no_show\"]].count()\n",
    "hipertension_no_show.columns = [\"hipertension_count\"]\n",
    "hipertension_no_show.reset_index(inplace=True)\n",
    "hipertension_no_show.columns = [\"Hipertension\", \"No Show Status\", \"No Show Count\"]\n",
    "hipertension_no_show = pd.DataFrame(hipertension_no_show.groupby([\"Hipertension\",\"No Show Status\"])[\"No Show Count\"].sum() / hipertension_no_show.groupby([\"Hipertension\"])[\"No Show Count\"].sum() * 100)\n",
    "hipertension_no_show = hipertension_no_show.unstack()"
   ]
  },
  {
   "cell_type": "code",
   "execution_count": null,
   "metadata": {},
   "outputs": [],
   "source": [
    "diabetes_no_show = df_clean.groupby([\"diabetes\", \"no_show\"])[[\"no_show\"]].count()\n",
    "diabetes_no_show.columns = [\"diabetes_count\"]\n",
    "diabetes_no_show.reset_index(inplace=True)\n",
    "diabetes_no_show.columns = [\"Diabetes\", \"No Show Status\", \"No Show Count\"]\n",
    "diabetes_no_show = pd.DataFrame(diabetes_no_show.groupby([\"Diabetes\",\"No Show Status\"])[\"No Show Count\"].sum() / diabetes_no_show.groupby([\"Diabetes\"])[\"No Show Count\"].sum() * 100)\n",
    "diabetes_no_show = diabetes_no_show.unstack()"
   ]
  },
  {
   "cell_type": "code",
   "execution_count": null,
   "metadata": {},
   "outputs": [],
   "source": [
    "alcoholism_no_show = df_clean.groupby([\"alcoholism\", \"no_show\"])[[\"no_show\"]].count()\n",
    "alcoholism_no_show.columns = [\"alcoholism_count\"]\n",
    "alcoholism_no_show.reset_index(inplace=True)\n",
    "alcoholism_no_show.columns = [\"Alcoholism\", \"No Show Status\", \"No Show Count\"]\n",
    "alcoholism_no_show = pd.DataFrame(alcoholism_no_show.groupby([\"Alcoholism\",\"No Show Status\"])[\"No Show Count\"].sum() / alcoholism_no_show.groupby([\"Alcoholism\"])[\"No Show Count\"].sum() * 100)\n",
    "alcoholism_no_show = alcoholism_no_show.unstack()"
   ]
  },
  {
   "cell_type": "code",
   "execution_count": null,
   "metadata": {},
   "outputs": [],
   "source": [
    "handcap_no_show = df_clean.groupby([\"handcap\", \"no_show\"])[[\"no_show\"]].count()\n",
    "handcap_no_show.columns = [\"handcap_count\"]\n",
    "handcap_no_show.reset_index(inplace=True)\n",
    "handcap_no_show.columns = [\"Handcap\", \"No Show Status\", \"No Show Count\"]\n",
    "handcap_no_show = pd.DataFrame(handcap_no_show.groupby([\"Handcap\",\"No Show Status\"])[\"No Show Count\"].sum() / handcap_no_show.groupby([\"Handcap\"])[\"No Show Count\"].sum() * 100)\n",
    "handcap_no_show = handcap_no_show.unstack()"
   ]
  },
  {
   "cell_type": "code",
   "execution_count": null,
   "metadata": {},
   "outputs": [],
   "source": [
    "fig, axs = plt.subplots(1,4,figsize=(20,5))\n",
    "\n",
    "fig.suptitle('Halth Status VS No Show', fontsize=16)\n",
    "# fig.legend([\"Show Up\", \"No Show\"])\n",
    "\n",
    "hipertension_no_show.plot.bar(ax=axs[0],stacked=True);\n",
    "axs[0].set_xticklabels((\"False\", \"True\"),rotation=0)\n",
    "axs[0].set_ylim(top=100)\n",
    "axs[0].set_title(\"Hipertension VS No Show\")\n",
    "axs[0].set_xlabel(\"Hipertension\")\n",
    "axs[0].legend([\"Show Up\", \"No Show\"])\n",
    "\n",
    "diabetes_no_show.plot.bar(ax=axs[1], stacked=True)\n",
    "axs[1].set_xticklabels((\"False\", \"True\"),rotation=0)\n",
    "axs[1].set_ylim(top=100)\n",
    "axs[1].set_title(\"Diabetes VS No Show\")\n",
    "axs[1].set_xlabel(\"Diabetes\")\n",
    "axs[1].legend([\"Show Up\", \"No Show\"])\n",
    "\n",
    "alcoholism_no_show.plot.bar(ax=axs[2],stacked=True);\n",
    "axs[2].set_xticklabels((\"False\", \"True\"),rotation=0)\n",
    "axs[2].set_ylim(top=100)\n",
    "axs[2].set_title(\"Alcoholism VS No Show\")\n",
    "axs[2].set_xlabel(\"Alcoholism\")\n",
    "axs[2].legend([\"Show Up\", \"No Show\"])\n",
    "\n",
    "handcap_no_show.plot.bar(ax=axs[3], stacked=True)\n",
    "axs[3].set_xticklabels((\"False\", \"True\"), rotation=0)\n",
    "axs[3].set_ylim(top=100)\n",
    "axs[3].set_title(\"Handcap VS No Show\")\n",
    "axs[3].set_xlabel(\"Handcap\")\n",
    "axs[3].legend([\"Show Up\", \"No Show\"])\n",
    "\n"
   ]
  },
  {
   "cell_type": "code",
   "execution_count": null,
   "metadata": {},
   "outputs": [],
   "source": [
    "health_all = df_clean.loc[:,[\"hipertension\", \"diabetes\", \"alcoholism\", \"handcap\", 'no_show']]\n",
    "health_all[\"health_count\"] = health_all[[\"hipertension\", \"diabetes\", \"alcoholism\", \"handcap\"]].sum(axis = 1)\n",
    "health_all = health_all.loc[:,[\"health_count\", \"no_show\"]]\n",
    "health_all = health_all.groupby([\"health_count\", \"no_show\"])[[\"no_show\"]].count()\n",
    "health_all.columns = [\"no_show_count\"]\n",
    "health_all.reset_index(inplace=True)\n",
    "health_all[\"no_show_rate\"] = pd.DataFrame(health_all.groupby([\"health_count\",\"no_show\"])[\"no_show_count\"].sum() / health_all.groupby([\"health_count\"])[\"no_show_count\"].sum() * 100).reset_index()[[\"no_show_count\"]]\n",
    "health_all = health_all.groupby([\"health_count\",\"no_show\"])[[\"no_show_count\", \"no_show_rate\"]].sum()\n",
    "health_all = health_all.unstack()"
   ]
  },
  {
   "cell_type": "code",
   "execution_count": null,
   "metadata": {},
   "outputs": [],
   "source": [
    "fig, axs = plt.subplots(1,2,figsize=(15,5))\n",
    "\n",
    "health_all[\"no_show_count\"].plot.bar(ax=axs[0],stacked=True);\n",
    "# axs[0].set_xticklabels(rotation=0)\n",
    "# axs[0].set_ylim(top=30)\n",
    "# axs[0].set_title(\"% of Showed Up Appointments per Schedule Days per\")\n",
    "# axs[0].set_xlabel(\"Schedule Days (Show Up Only)\")\n",
    "# axs[0].legend([\"SMS Recieved\", \"SMS Not Recieved\"])\n",
    "\n",
    "health_all[\"no_show_rate\"].plot.bar(ax=axs[1], stacked=True)\n",
    "# axs[1].set_xticklabels(rotation=0)\n",
    "# axs[1].set_ylim(top=100)\n",
    "# axs[1].set_title(\"% of No Showed Up Appointments per Schedule Days\")\n",
    "# axs[1].set_xlabel(\"Schedule Days (No Show Up Only)\")\n",
    "# axs[1].legend([\"SMS Recieved\", \"SMS Not Recieved\"])"
   ]
  },
  {
   "cell_type": "markdown",
   "metadata": {},
   "source": [
    "### Which neighbourhood has the most no-show rate? are neighbourhoods with more scholarship patients are most likely not to show?"
   ]
  },
  {
   "cell_type": "markdown",
   "metadata": {},
   "source": [
    "For this "
   ]
  },
  {
   "cell_type": "code",
   "execution_count": 156,
   "metadata": {},
   "outputs": [],
   "source": [
    "neighbourhood_all = df_clean.groupby([\"neighbourhood\", \"no_show\"])[[\"no_show\"]].count()\n",
    "neighbourhood_all.columns = [\"no_show_count\"]\n",
    "neighbourhood_all.reset_index(inplace=True)\n",
    "neighbourhood_all[\"no_show_rate\"] = pd.DataFrame(neighbourhood_all.groupby([\"neighbourhood\",\"no_show\"])[\"no_show_count\"].sum() / neighbourhood_all.groupby([\"neighbourhood\"])[\"no_show_count\"].sum() * 100).reset_index()[[\"no_show_count\"]]\n",
    "neighbourhood_all = neighbourhood_all.groupby([\"neighbourhood\",\"no_show\"])[[\"no_show_count\", \"no_show_rate\"]].sum()\n",
    "neighbourhood_all = neighbourhood_all.unstack()\n",
    "neighbourhood_all = neighbourhood_all.fillna(0)\n",
    "neighbourhood_above_1000_visits = neighbourhood_all[neighbourhood_all[\"no_show_count\"][False] + neighbourhood_all[\"no_show_count\"][True] > 1000]"
   ]
  },
  {
   "cell_type": "code",
   "execution_count": 157,
   "metadata": {},
   "outputs": [
    {
     "data": {
      "text/plain": [
       "<matplotlib.axes._subplots.AxesSubplot at 0x1f7e425bef0>"
      ]
     },
     "execution_count": 157,
     "metadata": {},
     "output_type": "execute_result"
    },
    {
     "data": {
      "image/png": "[encoded data removed]",
      "text/plain": [
       "<Figure size 1440x360 with 1 Axes>"
      ]
     },
     "metadata": {
      "needs_background": "light"
     },
     "output_type": "display_data"
    },
    {
     "data": {
      "image/png": "[encoded data removed]",
      "text/plain": [
       "<Figure size 1440x360 with 1 Axes>"
      ]
     },
     "metadata": {
      "needs_background": "light"
     },
     "output_type": "display_data"
    }
   ],
   "source": [
    "neighbourhood_above_1000_visits[\"no_show_count\"].sort_values(by=False).plot.bar(stacked=True, figsize=(20,5))\n",
    "neighbourhood_above_1000_visits[\"no_show_rate\"].sort_values(by=False).plot.bar(stacked=True, figsize=(20,5))"
   ]
  },
  {
   "cell_type": "code",
   "execution_count": 158,
   "metadata": {},
   "outputs": [
    {
     "data": {
      "text/html": [
       "<div>\n",
       "<style scoped>\n",
       "    .dataframe tbody tr th:only-of-type {\n",
       "        vertical-align: middle;\n",
       "    }\n",
       "\n",
       "    .dataframe tbody tr th {\n",
       "        vertical-align: top;\n",
       "    }\n",
       "\n",
       "    .dataframe thead th {\n",
       "        text-align: right;\n",
       "    }\n",
       "</style>\n",
       "<table border=\"1\" class=\"dataframe\">\n",
       "  <thead>\n",
       "    <tr style=\"text-align: right;\">\n",
       "      <th></th>\n",
       "      <th>scholarship_rate</th>\n",
       "    </tr>\n",
       "  </thead>\n",
       "  <tbody>\n",
       "    <tr>\n",
       "      <th>count</th>\n",
       "      <td>38.000000</td>\n",
       "    </tr>\n",
       "    <tr>\n",
       "      <th>mean</th>\n",
       "      <td>11.811411</td>\n",
       "    </tr>\n",
       "    <tr>\n",
       "      <th>std</th>\n",
       "      <td>6.104676</td>\n",
       "    </tr>\n",
       "    <tr>\n",
       "      <th>min</th>\n",
       "      <td>0.283725</td>\n",
       "    </tr>\n",
       "    <tr>\n",
       "      <th>25%</th>\n",
       "      <td>8.913911</td>\n",
       "    </tr>\n",
       "    <tr>\n",
       "      <th>50%</th>\n",
       "      <td>11.761120</td>\n",
       "    </tr>\n",
       "    <tr>\n",
       "      <th>75%</th>\n",
       "      <td>14.424395</td>\n",
       "    </tr>\n",
       "    <tr>\n",
       "      <th>max</th>\n",
       "      <td>28.075052</td>\n",
       "    </tr>\n",
       "  </tbody>\n",
       "</table>\n",
       "</div>"
      ],
      "text/plain": [
       "       scholarship_rate\n",
       "count         38.000000\n",
       "mean          11.811411\n",
       "std            6.104676\n",
       "min            0.283725\n",
       "25%            8.913911\n",
       "50%           11.761120\n",
       "75%           14.424395\n",
       "max           28.075052"
      ]
     },
     "execution_count": 158,
     "metadata": {},
     "output_type": "execute_result"
    }
   ],
   "source": [
    "neighbourhood_scholarship = df_clean.query(f\"neighbourhood in {neighbourhood_above_1000_visits.index.tolist()}\").groupby([\"neighbourhood\", \"scholarship\"])[[\"scholarship\"]].count()\n",
    "neighbourhood_scholarship.columns = [\"scholarship_count\"]\n",
    "neighbourhood_scholarship.reset_index(inplace=True)\n",
    "neighbourhood_scholarship[\"scholarship_rate\"] = pd.DataFrame(neighbourhood_scholarship.groupby([\"neighbourhood\",\"scholarship\"])[\"scholarship_count\"].sum() / neighbourhood_scholarship.groupby([\"neighbourhood\"])[\"scholarship_count\"].sum() * 100).reset_index()[[\"scholarship_count\"]]\n",
    "neighbourhood_scholarship = neighbourhood_scholarship.groupby([\"neighbourhood\", \"scholarship\"])[[\"scholarship_rate\"]].sum()\n",
    "neighbourhood_scholarship.reset_index(inplace=True)\n",
    "neighbourhood_scholarship.query(\"scholarship == True\").describe()\n",
    "\n",
    "# neighbourhood_scholarship\n",
    "# neighbourhood_scholarship[\"scholarship_rate\"] = \n",
    "\n",
    "# neighbourhood_all.columns = [\"no_show_count\"]\n",
    "# neighbourhood_all.reset_index(inplace=True)\n",
    "# neighbourhood_all[\"no_show_rate\"] = pd.DataFrame(neighbourhood_all.groupby([\"neighbourhood\",\"no_show\"])[\"no_show_count\"].sum() / neighbourhood_all.groupby([\"neighbourhood\"])[\"no_show_count\"].sum() * 100).reset_index()[[\"no_show_count\"]]\n",
    "# neighbourhood_all = neighbourhood_all.groupby([\"neighbourhood\",\"no_show\"])[[\"no_show_count\", \"no_show_rate\"]].sum()\n",
    "# neighbourhood_all = neighbourhood_all.unstack()\n",
    "# neighbourhood_all = neighbourhood_all.fillna(0)\n",
    "# neighbourhood_above_1000_visits = neighbourhood_all[neighbourhood_all[\"no_show_count\"][False] + neighbourhood_all[\"no_show_count\"][True] > 1000]"
   ]
  },
  {
   "cell_type": "code",
   "execution_count": 165,
   "metadata": {},
   "outputs": [
    {
     "data": {
      "text/html": [
       "<div>\n",
       "<style scoped>\n",
       "    .dataframe tbody tr th:only-of-type {\n",
       "        vertical-align: middle;\n",
       "    }\n",
       "\n",
       "    .dataframe tbody tr th {\n",
       "        vertical-align: top;\n",
       "    }\n",
       "\n",
       "    .dataframe thead th {\n",
       "        text-align: right;\n",
       "    }\n",
       "</style>\n",
       "<table border=\"1\" class=\"dataframe\">\n",
       "  <thead>\n",
       "    <tr style=\"text-align: right;\">\n",
       "      <th></th>\n",
       "      <th>neighbourhood_social</th>\n",
       "    </tr>\n",
       "    <tr>\n",
       "      <th>neighbourhood</th>\n",
       "      <th></th>\n",
       "    </tr>\n",
       "  </thead>\n",
       "  <tbody>\n",
       "    <tr>\n",
       "      <th>ANDORINHAS</th>\n",
       "      <td>Class C</td>\n",
       "    </tr>\n",
       "    <tr>\n",
       "      <th>BELA VISTA</th>\n",
       "      <td>Class C</td>\n",
       "    </tr>\n",
       "    <tr>\n",
       "      <th>BONFIM</th>\n",
       "      <td>Class C</td>\n",
       "    </tr>\n",
       "    <tr>\n",
       "      <th>CARATOÍRA</th>\n",
       "      <td>Class D</td>\n",
       "    </tr>\n",
       "    <tr>\n",
       "      <th>CENTRO</th>\n",
       "      <td>Class A</td>\n",
       "    </tr>\n",
       "    <tr>\n",
       "      <th>CONSOLAÇÃO</th>\n",
       "      <td>Class D</td>\n",
       "    </tr>\n",
       "    <tr>\n",
       "      <th>CRUZAMENTO</th>\n",
       "      <td>Class C</td>\n",
       "    </tr>\n",
       "    <tr>\n",
       "      <th>DA PENHA</th>\n",
       "      <td>Class C</td>\n",
       "    </tr>\n",
       "    <tr>\n",
       "      <th>FORTE SÃO JOÃO</th>\n",
       "      <td>Class A</td>\n",
       "    </tr>\n",
       "    <tr>\n",
       "      <th>GRANDE VITÓRIA</th>\n",
       "      <td>Class B</td>\n",
       "    </tr>\n",
       "    <tr>\n",
       "      <th>GURIGICA</th>\n",
       "      <td>Class D</td>\n",
       "    </tr>\n",
       "    <tr>\n",
       "      <th>ILHA DAS CAIEIRAS</th>\n",
       "      <td>Class D</td>\n",
       "    </tr>\n",
       "    <tr>\n",
       "      <th>ILHA DE SANTA MARIA</th>\n",
       "      <td>Class A</td>\n",
       "    </tr>\n",
       "    <tr>\n",
       "      <th>ILHA DO PRÍNCIPE</th>\n",
       "      <td>Class D</td>\n",
       "    </tr>\n",
       "    <tr>\n",
       "      <th>INHANGUETÁ</th>\n",
       "      <td>Class B</td>\n",
       "    </tr>\n",
       "    <tr>\n",
       "      <th>ITARARÉ</th>\n",
       "      <td>Class A</td>\n",
       "    </tr>\n",
       "    <tr>\n",
       "      <th>JABOUR</th>\n",
       "      <td>Class B</td>\n",
       "    </tr>\n",
       "    <tr>\n",
       "      <th>JARDIM CAMBURI</th>\n",
       "      <td>Class A</td>\n",
       "    </tr>\n",
       "    <tr>\n",
       "      <th>JARDIM DA PENHA</th>\n",
       "      <td>Class D</td>\n",
       "    </tr>\n",
       "    <tr>\n",
       "      <th>JESUS DE NAZARETH</th>\n",
       "      <td>Class B</td>\n",
       "    </tr>\n",
       "    <tr>\n",
       "      <th>JOANA D´ARC</th>\n",
       "      <td>Class D</td>\n",
       "    </tr>\n",
       "    <tr>\n",
       "      <th>MARIA ORTIZ</th>\n",
       "      <td>Class A</td>\n",
       "    </tr>\n",
       "    <tr>\n",
       "      <th>MARUÍPE</th>\n",
       "      <td>Class A</td>\n",
       "    </tr>\n",
       "    <tr>\n",
       "      <th>NOVA PALESTINA</th>\n",
       "      <td>Class C</td>\n",
       "    </tr>\n",
       "    <tr>\n",
       "      <th>PRAIA DO CANTO</th>\n",
       "      <td>Class D</td>\n",
       "    </tr>\n",
       "    <tr>\n",
       "      <th>PRAIA DO SUÁ</th>\n",
       "      <td>Class B</td>\n",
       "    </tr>\n",
       "    <tr>\n",
       "      <th>REDENÇÃO</th>\n",
       "      <td>Class B</td>\n",
       "    </tr>\n",
       "    <tr>\n",
       "      <th>RESISTÊNCIA</th>\n",
       "      <td>Class B</td>\n",
       "    </tr>\n",
       "    <tr>\n",
       "      <th>ROMÃO</th>\n",
       "      <td>Class A</td>\n",
       "    </tr>\n",
       "    <tr>\n",
       "      <th>SANTA MARTHA</th>\n",
       "      <td>Class C</td>\n",
       "    </tr>\n",
       "    <tr>\n",
       "      <th>SANTA TEREZA</th>\n",
       "      <td>Class D</td>\n",
       "    </tr>\n",
       "    <tr>\n",
       "      <th>SANTO ANDRÉ</th>\n",
       "      <td>Class C</td>\n",
       "    </tr>\n",
       "    <tr>\n",
       "      <th>SANTO ANTÔNIO</th>\n",
       "      <td>Class A</td>\n",
       "    </tr>\n",
       "    <tr>\n",
       "      <th>SANTOS DUMONT</th>\n",
       "      <td>Class D</td>\n",
       "    </tr>\n",
       "    <tr>\n",
       "      <th>SÃO BENEDITO</th>\n",
       "      <td>Class D</td>\n",
       "    </tr>\n",
       "    <tr>\n",
       "      <th>SÃO CRISTÓVÃO</th>\n",
       "      <td>Class B</td>\n",
       "    </tr>\n",
       "    <tr>\n",
       "      <th>SÃO JOSÉ</th>\n",
       "      <td>Class B</td>\n",
       "    </tr>\n",
       "    <tr>\n",
       "      <th>SÃO PEDRO</th>\n",
       "      <td>Class C</td>\n",
       "    </tr>\n",
       "    <tr>\n",
       "      <th>TABUAZEIRO</th>\n",
       "      <td>Class D</td>\n",
       "    </tr>\n",
       "  </tbody>\n",
       "</table>\n",
       "</div>"
      ],
      "text/plain": [
       "                    neighbourhood_social\n",
       "neighbourhood                           \n",
       "ANDORINHAS                       Class C\n",
       "BELA VISTA                       Class C\n",
       "BONFIM                           Class C\n",
       "CARATOÍRA                        Class D\n",
       "CENTRO                           Class A\n",
       "CONSOLAÇÃO                       Class D\n",
       "CRUZAMENTO                       Class C\n",
       "DA PENHA                         Class C\n",
       "FORTE SÃO JOÃO                   Class A\n",
       "GRANDE VITÓRIA                   Class B\n",
       "GURIGICA                         Class D\n",
       "ILHA DAS CAIEIRAS                Class D\n",
       "ILHA DE SANTA MARIA              Class A\n",
       "ILHA DO PRÍNCIPE                 Class D\n",
       "INHANGUETÁ                       Class B\n",
       "ITARARÉ                          Class A\n",
       "JABOUR                           Class B\n",
       "JARDIM CAMBURI                   Class A\n",
       "JARDIM DA PENHA                  Class D\n",
       "JESUS DE NAZARETH                Class B\n",
       "JOANA D´ARC                      Class D\n",
       "MARIA ORTIZ                      Class A\n",
       "MARUÍPE                          Class A\n",
       "NOVA PALESTINA                   Class C\n",
       "PRAIA DO CANTO                   Class D\n",
       "PRAIA DO SUÁ                     Class B\n",
       "REDENÇÃO                         Class B\n",
       "RESISTÊNCIA                      Class B\n",
       "ROMÃO                            Class A\n",
       "SANTA MARTHA                     Class C\n",
       "SANTA TEREZA                     Class D\n",
       "SANTO ANDRÉ                      Class C\n",
       "SANTO ANTÔNIO                    Class A\n",
       "SANTOS DUMONT                    Class D\n",
       "SÃO BENEDITO                     Class D\n",
       "SÃO CRISTÓVÃO                    Class B\n",
       "SÃO JOSÉ                         Class B\n",
       "SÃO PEDRO                        Class C\n",
       "TABUAZEIRO                       Class D"
      ]
     },
     "execution_count": 165,
     "metadata": {},
     "output_type": "execute_result"
    }
   ],
   "source": [
    "def neighbourhood_social_classifier(row):\n",
    "    x = row[\"scholarship_rate\"]\n",
    "    if(row[\"scholarship\"] == False):\n",
    "        x = 100 - x\n",
    "       \n",
    "    if x >= 0.283725 and x < 8.913911:\n",
    "        return \"Class A\"\n",
    "    elif x >= 8.913911 and x < 11.761120:\n",
    "        return \"Class B\"\n",
    "    elif x >= 11.761120 and x < 14.424395:\n",
    "        return \"Class C\"\n",
    "    else:\n",
    "        return \"Class D\"\n",
    "\n",
    "neighbourhood_scholarship[\"neighbourhood_class\"] = neighbourhood_scholarship.apply(neighbourhood_social_classifier,axis=1)\n",
    "neighbourhood_scholarship_class = neighbourhood_scholarship.loc[:,[\"neighbourhood\", \"neighbourhood_class\"]]\n",
    "neighbourhood_scholarship_class\n",
    "neighbourhood_scholarship_class.drop_duplicates(inplace=True)\n",
    "neighbourhood_scholarship_class = neighbourhood_scholarship_class.set_index(\"neighbourhood\")"
   ]
  },
  {
   "cell_type": "code",
   "execution_count": 166,
   "metadata": {},
   "outputs": [
    {
     "data": {
      "text/html": [
       "<div>\n",
       "<style scoped>\n",
       "    .dataframe tbody tr th:only-of-type {\n",
       "        vertical-align: middle;\n",
       "    }\n",
       "\n",
       "    .dataframe tbody tr th {\n",
       "        vertical-align: top;\n",
       "    }\n",
       "\n",
       "    .dataframe thead th {\n",
       "        text-align: right;\n",
       "    }\n",
       "</style>\n",
       "<table border=\"1\" class=\"dataframe\">\n",
       "  <thead>\n",
       "    <tr style=\"text-align: right;\">\n",
       "      <th></th>\n",
       "      <th>neighbourhood_social</th>\n",
       "    </tr>\n",
       "    <tr>\n",
       "      <th>neighbourhood</th>\n",
       "      <th></th>\n",
       "    </tr>\n",
       "  </thead>\n",
       "  <tbody>\n",
       "    <tr>\n",
       "      <th>BONFIM</th>\n",
       "      <td>Class C</td>\n",
       "    </tr>\n",
       "  </tbody>\n",
       "</table>\n",
       "</div>"
      ],
      "text/plain": [
       "              neighbourhood_social\n",
       "neighbourhood                     \n",
       "BONFIM                     Class C"
      ]
     },
     "execution_count": 166,
     "metadata": {},
     "output_type": "execute_result"
    }
   ],
   "source": [
    "def get_neighbourhood_class(neighbourhood):\n",
    "    return neighbourhood_scholarship_class.query(f\"neighbourhood == '{neighbourhood}'\")[\"neighbourhood_social\"]\n",
    "\n",
    "neighbourhood_above_1000_visits[\"neighbourhood\"]   \n",
    "# g1[\"neighbourhood_social\"] = g1.apply(neighbourhood_social_classifier,axis=1)\n",
    "\n",
    "# y = g.stack()\n",
    "# y.reset_index(inplace=True)\n",
    "\n",
    "# z = pd.merge(y,g1,on=\"neighbourhood\", how=\"inner\")\n",
    "# # z.reset_index()\n",
    "# z = z.drop_duplicates()\n",
    "# z = z[[\"neighbourhood_social\", \"no_show\", \"no_show_count\"]].groupby([\"neighbourhood_social\", \"no_show\"]).sum()\n",
    "# z[\"no_show_rate\"] = pd.DataFrame(z.groupby([\"neighbourhood_social\",\"no_show\"])[\"no_show_count\"].sum() / z.groupby([\"neighbourhood_social\"])[\"no_show_count\"].sum() * 100)\n",
    "\n",
    "# z.unstack()[\"no_show_rate\"].plot.bar(stacked=True)\n"
   ]
  },
  {
   "cell_type": "code",
   "execution_count": 144,
   "metadata": {},
   "outputs": [
    {
     "data": {
      "text/plain": [
       "Index(['ANDORINHAS', 'BELA VISTA', 'BONFIM', 'CARATOÍRA', 'CENTRO',\n",
       "       'CONSOLAÇÃO', 'CRUZAMENTO', 'DA PENHA', 'FORTE SÃO JOÃO',\n",
       "       'GRANDE VITÓRIA', 'GURIGICA', 'ILHA DAS CAIEIRAS',\n",
       "       'ILHA DE SANTA MARIA', 'ILHA DO PRÍNCIPE', 'INHANGUETÁ', 'ITARARÉ',\n",
       "       'JABOUR', 'JARDIM CAMBURI', 'JARDIM DA PENHA', 'JESUS DE NAZARETH',\n",
       "       'JOANA D´ARC', 'MARIA ORTIZ', 'MARUÍPE', 'NOVA PALESTINA',\n",
       "       'PRAIA DO CANTO', 'PRAIA DO SUÁ', 'REDENÇÃO', 'RESISTÊNCIA', 'ROMÃO',\n",
       "       'SANTA MARTHA', 'SANTA TEREZA', 'SANTO ANDRÉ', 'SANTO ANTÔNIO',\n",
       "       'SANTOS DUMONT', 'SÃO BENEDITO', 'SÃO CRISTÓVÃO', 'SÃO JOSÉ',\n",
       "       'SÃO PEDRO', 'TABUAZEIRO'],\n",
       "      dtype='object', name='neighbourhood')"
      ]
     },
     "execution_count": 144,
     "metadata": {},
     "output_type": "execute_result"
    }
   ],
   "source": [
    "def get_ne\n",
    "\n",
    "# pd.merge(neighbourhood_above_1000_visits,neighbourhood_scholarship_class,on=\"neighbourhood\", how=\"inner\")"
   ]
  },
  {
   "cell_type": "markdown",
   "metadata": {},
   "source": [
    "<a id='conclusions'></a>\n",
    "## Conclusions\n",
    "\n",
    "> **Tip**: Finally, summarize your findings and the results that have been performed. Make sure that you are clear with regards to the limitations of your exploration. If you haven't done any statistical tests, do not imply any statistical conclusions. And make sure you avoid implying causation from correlation!\n",
    "\n",
    "> **Tip**: Once you are satisfied with your work here, check over your report to make sure that it is satisfies all the areas of the rubric (found on the project submission page at the end of the lesson). You should also probably remove all of the \"Tips\" like this one so that the presentation is as polished as possible.\n",
    "\n",
    "## Submitting your Project \n",
    "\n",
    "> Before you submit your project, you need to create a .html or .pdf version of this notebook in the workspace here. To do that, run the code cell below. If it worked correctly, you should get a return code of 0, and you should see the generated .html file in the workspace directory (click on the orange Jupyter icon in the upper left).\n",
    "\n",
    "> Alternatively, you can download this report as .html via the **File** > **Download as** submenu, and then manually upload it into the workspace directory by clicking on the orange Jupyter icon in the upper left, then using the Upload button.\n",
    "\n",
    "> Once you've done this, you can submit your project by clicking on the \"Submit Project\" button in the lower right here. This will create and submit a zip file with this .ipynb doc and the .html or .pdf version you created. Congratulations!"
   ]
  },
  {
   "cell_type": "code",
   "execution_count": null,
   "metadata": {
    "scrolled": true
   },
   "outputs": [],
   "source": [
    "from subprocess import call\n",
    "call(['python', '-m', 'nbconvert', 'Investigate_a_Dataset.ipynb'])"
   ]
  }
 ],
 "metadata": {
  "kernelspec": {
   "display_name": "Python 3",
   "language": "python",
   "name": "python3"
  },
  "language_info": {
   "codemirror_mode": {
    "name": "ipython",
    "version": 3
   },
   "file_extension": ".py",
   "mimetype": "text/x-python",
   "name": "python",
   "nbconvert_exporter": "python",
   "pygments_lexer": "ipython3",
   "version": "3.7.3"
  }
 },
 "nbformat": 4,
 "nbformat_minor": 2
}
